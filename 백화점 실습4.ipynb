{
 "cells": [
  {
   "cell_type": "code",
   "execution_count": 270,
   "metadata": {},
   "outputs": [],
   "source": [
    "import pandas as pd\n",
    "import numpy as np\n",
    "import matplotlib.pyplot as plt"
   ]
  },
  {
   "cell_type": "code",
   "execution_count": 271,
   "metadata": {},
   "outputs": [
    {
     "data": {
      "text/html": [
       "<div>\n",
       "<style scoped>\n",
       "    .dataframe tbody tr th:only-of-type {\n",
       "        vertical-align: middle;\n",
       "    }\n",
       "\n",
       "    .dataframe tbody tr th {\n",
       "        vertical-align: top;\n",
       "    }\n",
       "\n",
       "    .dataframe thead th {\n",
       "        text-align: right;\n",
       "    }\n",
       "</style>\n",
       "<table border=\"1\" class=\"dataframe\">\n",
       "  <thead>\n",
       "    <tr style=\"text-align: right;\">\n",
       "      <th></th>\n",
       "      <th>custid</th>\n",
       "      <th>gender</th>\n",
       "      <th>총구매액</th>\n",
       "      <th>구매건수</th>\n",
       "      <th>평균구매가격</th>\n",
       "      <th>평균할부개월수</th>\n",
       "      <th>구매브랜드종류</th>\n",
       "      <th>내점일수</th>\n",
       "      <th>수입상품_구매비율</th>\n",
       "      <th>주말방문비율</th>\n",
       "      <th>가을_구매건수</th>\n",
       "      <th>겨울_구매건수</th>\n",
       "      <th>봄_구매건수</th>\n",
       "      <th>여름_구매건수</th>\n",
       "      <th>아침_구매건수</th>\n",
       "      <th>저녁_구매건수</th>\n",
       "      <th>점심_구매건수</th>\n",
       "      <th>주구매코너</th>\n",
       "    </tr>\n",
       "  </thead>\n",
       "  <tbody>\n",
       "    <tr>\n",
       "      <th>0</th>\n",
       "      <td>18</td>\n",
       "      <td>0</td>\n",
       "      <td>680100</td>\n",
       "      <td>15</td>\n",
       "      <td>45340</td>\n",
       "      <td>1.7</td>\n",
       "      <td>9</td>\n",
       "      <td>10</td>\n",
       "      <td>26.7</td>\n",
       "      <td>100.0</td>\n",
       "      <td>NaN</td>\n",
       "      <td>9.0</td>\n",
       "      <td>6.0</td>\n",
       "      <td>NaN</td>\n",
       "      <td>NaN</td>\n",
       "      <td>6.0</td>\n",
       "      <td>9.0</td>\n",
       "      <td>화장품</td>\n",
       "    </tr>\n",
       "    <tr>\n",
       "      <th>1</th>\n",
       "      <td>21</td>\n",
       "      <td>0</td>\n",
       "      <td>353450</td>\n",
       "      <td>9</td>\n",
       "      <td>39272</td>\n",
       "      <td>1.2</td>\n",
       "      <td>6</td>\n",
       "      <td>8</td>\n",
       "      <td>11.1</td>\n",
       "      <td>37.5</td>\n",
       "      <td>NaN</td>\n",
       "      <td>5.0</td>\n",
       "      <td>4.0</td>\n",
       "      <td>NaN</td>\n",
       "      <td>3.0</td>\n",
       "      <td>NaN</td>\n",
       "      <td>6.0</td>\n",
       "      <td>영캐주얼</td>\n",
       "    </tr>\n",
       "    <tr>\n",
       "      <th>2</th>\n",
       "      <td>23</td>\n",
       "      <td>0</td>\n",
       "      <td>5671400</td>\n",
       "      <td>36</td>\n",
       "      <td>157539</td>\n",
       "      <td>2.8</td>\n",
       "      <td>22</td>\n",
       "      <td>16</td>\n",
       "      <td>5.6</td>\n",
       "      <td>37.5</td>\n",
       "      <td>7.0</td>\n",
       "      <td>17.0</td>\n",
       "      <td>12.0</td>\n",
       "      <td>NaN</td>\n",
       "      <td>10.0</td>\n",
       "      <td>11.0</td>\n",
       "      <td>15.0</td>\n",
       "      <td>장신구</td>\n",
       "    </tr>\n",
       "    <tr>\n",
       "      <th>3</th>\n",
       "      <td>26</td>\n",
       "      <td>0</td>\n",
       "      <td>1964000</td>\n",
       "      <td>28</td>\n",
       "      <td>70143</td>\n",
       "      <td>1.4</td>\n",
       "      <td>15</td>\n",
       "      <td>14</td>\n",
       "      <td>39.3</td>\n",
       "      <td>28.6</td>\n",
       "      <td>5.0</td>\n",
       "      <td>8.0</td>\n",
       "      <td>15.0</td>\n",
       "      <td>NaN</td>\n",
       "      <td>NaN</td>\n",
       "      <td>18.0</td>\n",
       "      <td>10.0</td>\n",
       "      <td>화장품</td>\n",
       "    </tr>\n",
       "    <tr>\n",
       "      <th>4</th>\n",
       "      <td>35</td>\n",
       "      <td>0</td>\n",
       "      <td>885000</td>\n",
       "      <td>5</td>\n",
       "      <td>177000</td>\n",
       "      <td>6.0</td>\n",
       "      <td>5</td>\n",
       "      <td>2</td>\n",
       "      <td>0.0</td>\n",
       "      <td>100.0</td>\n",
       "      <td>NaN</td>\n",
       "      <td>NaN</td>\n",
       "      <td>5.0</td>\n",
       "      <td>NaN</td>\n",
       "      <td>NaN</td>\n",
       "      <td>5.0</td>\n",
       "      <td>NaN</td>\n",
       "      <td>피혁A</td>\n",
       "    </tr>\n",
       "  </tbody>\n",
       "</table>\n",
       "</div>"
      ],
      "text/plain": [
       "   custid  gender     총구매액  구매건수  평균구매가격  평균할부개월수  구매브랜드종류  내점일수  수입상품_구매비율  \\\n",
       "0      18       0   680100    15   45340      1.7        9    10       26.7   \n",
       "1      21       0   353450     9   39272      1.2        6     8       11.1   \n",
       "2      23       0  5671400    36  157539      2.8       22    16        5.6   \n",
       "3      26       0  1964000    28   70143      1.4       15    14       39.3   \n",
       "4      35       0   885000     5  177000      6.0        5     2        0.0   \n",
       "\n",
       "   주말방문비율  가을_구매건수  겨울_구매건수  봄_구매건수  여름_구매건수  아침_구매건수  저녁_구매건수  점심_구매건수 주구매코너  \n",
       "0   100.0      NaN      9.0     6.0      NaN      NaN      6.0      9.0   화장품  \n",
       "1    37.5      NaN      5.0     4.0      NaN      3.0      NaN      6.0  영캐주얼  \n",
       "2    37.5      7.0     17.0    12.0      NaN     10.0     11.0     15.0   장신구  \n",
       "3    28.6      5.0      8.0    15.0      NaN      NaN     18.0     10.0   화장품  \n",
       "4   100.0      NaN      NaN     5.0      NaN      NaN      5.0      NaN   피혁A  "
      ]
     },
     "execution_count": 271,
     "metadata": {},
     "output_type": "execute_result"
    }
   ],
   "source": [
    "train = pd.read_csv('train.csv', encoding='CP949')\n",
    "train.head()"
   ]
  },
  {
   "cell_type": "code",
   "execution_count": 272,
   "metadata": {},
   "outputs": [
    {
     "data": {
      "text/html": [
       "<div>\n",
       "<style scoped>\n",
       "    .dataframe tbody tr th:only-of-type {\n",
       "        vertical-align: middle;\n",
       "    }\n",
       "\n",
       "    .dataframe tbody tr th {\n",
       "        vertical-align: top;\n",
       "    }\n",
       "\n",
       "    .dataframe thead th {\n",
       "        text-align: right;\n",
       "    }\n",
       "</style>\n",
       "<table border=\"1\" class=\"dataframe\">\n",
       "  <thead>\n",
       "    <tr style=\"text-align: right;\">\n",
       "      <th></th>\n",
       "      <th>custid</th>\n",
       "      <th>총구매액</th>\n",
       "      <th>구매건수</th>\n",
       "      <th>평균구매가격</th>\n",
       "      <th>평균할부개월수</th>\n",
       "      <th>구매브랜드종류</th>\n",
       "      <th>내점일수</th>\n",
       "      <th>수입상품_구매비율</th>\n",
       "      <th>주말방문비율</th>\n",
       "      <th>가을_구매건수</th>\n",
       "      <th>겨울_구매건수</th>\n",
       "      <th>봄_구매건수</th>\n",
       "      <th>여름_구매건수</th>\n",
       "      <th>아침_구매건수</th>\n",
       "      <th>저녁_구매건수</th>\n",
       "      <th>점심_구매건수</th>\n",
       "      <th>주구매코너</th>\n",
       "    </tr>\n",
       "  </thead>\n",
       "  <tbody>\n",
       "    <tr>\n",
       "      <th>0</th>\n",
       "      <td>100001</td>\n",
       "      <td>3439000</td>\n",
       "      <td>25</td>\n",
       "      <td>137560</td>\n",
       "      <td>2.2</td>\n",
       "      <td>19</td>\n",
       "      <td>16</td>\n",
       "      <td>12.0</td>\n",
       "      <td>31.2</td>\n",
       "      <td>5.0</td>\n",
       "      <td>4.0</td>\n",
       "      <td>7.0</td>\n",
       "      <td>9.0</td>\n",
       "      <td>13.0</td>\n",
       "      <td>1.0</td>\n",
       "      <td>11.0</td>\n",
       "      <td>장신구</td>\n",
       "    </tr>\n",
       "    <tr>\n",
       "      <th>1</th>\n",
       "      <td>100002</td>\n",
       "      <td>2073090</td>\n",
       "      <td>39</td>\n",
       "      <td>53156</td>\n",
       "      <td>1.3</td>\n",
       "      <td>18</td>\n",
       "      <td>29</td>\n",
       "      <td>0.0</td>\n",
       "      <td>20.7</td>\n",
       "      <td>13.0</td>\n",
       "      <td>8.0</td>\n",
       "      <td>10.0</td>\n",
       "      <td>8.0</td>\n",
       "      <td>4.0</td>\n",
       "      <td>10.0</td>\n",
       "      <td>25.0</td>\n",
       "      <td>유아동복</td>\n",
       "    </tr>\n",
       "  </tbody>\n",
       "</table>\n",
       "</div>"
      ],
      "text/plain": [
       "   custid     총구매액  구매건수  평균구매가격  평균할부개월수  구매브랜드종류  내점일수  수입상품_구매비율  주말방문비율  \\\n",
       "0  100001  3439000    25  137560      2.2       19    16       12.0    31.2   \n",
       "1  100002  2073090    39   53156      1.3       18    29        0.0    20.7   \n",
       "\n",
       "   가을_구매건수  겨울_구매건수  봄_구매건수  여름_구매건수  아침_구매건수  저녁_구매건수  점심_구매건수 주구매코너  \n",
       "0      5.0      4.0     7.0      9.0     13.0      1.0     11.0   장신구  \n",
       "1     13.0      8.0    10.0      8.0      4.0     10.0     25.0  유아동복  "
      ]
     },
     "execution_count": 272,
     "metadata": {},
     "output_type": "execute_result"
    }
   ],
   "source": [
    "test = pd.read_csv('test.csv', encoding='CP949')\n",
    "test.head(2)\n"
   ]
  },
  {
   "cell_type": "code",
   "execution_count": 273,
   "metadata": {},
   "outputs": [],
   "source": [
    "df1 = train.copy()"
   ]
  },
  {
   "cell_type": "code",
   "execution_count": 274,
   "metadata": {},
   "outputs": [
    {
     "data": {
      "text/html": [
       "<div>\n",
       "<style scoped>\n",
       "    .dataframe tbody tr th:only-of-type {\n",
       "        vertical-align: middle;\n",
       "    }\n",
       "\n",
       "    .dataframe tbody tr th {\n",
       "        vertical-align: top;\n",
       "    }\n",
       "\n",
       "    .dataframe thead th {\n",
       "        text-align: right;\n",
       "    }\n",
       "</style>\n",
       "<table border=\"1\" class=\"dataframe\">\n",
       "  <thead>\n",
       "    <tr style=\"text-align: right;\">\n",
       "      <th></th>\n",
       "      <th>custid</th>\n",
       "      <th>gender</th>\n",
       "      <th>총구매액</th>\n",
       "      <th>구매건수</th>\n",
       "      <th>평균구매가격</th>\n",
       "      <th>평균할부개월수</th>\n",
       "      <th>구매브랜드종류</th>\n",
       "      <th>내점일수</th>\n",
       "      <th>수입상품_구매비율</th>\n",
       "      <th>주말방문비율</th>\n",
       "      <th>가을_구매건수</th>\n",
       "      <th>겨울_구매건수</th>\n",
       "      <th>봄_구매건수</th>\n",
       "      <th>여름_구매건수</th>\n",
       "      <th>아침_구매건수</th>\n",
       "      <th>저녁_구매건수</th>\n",
       "      <th>점심_구매건수</th>\n",
       "      <th>주구매코너</th>\n",
       "    </tr>\n",
       "  </thead>\n",
       "  <tbody>\n",
       "    <tr>\n",
       "      <th>0</th>\n",
       "      <td>18</td>\n",
       "      <td>0</td>\n",
       "      <td>680100</td>\n",
       "      <td>15</td>\n",
       "      <td>45340</td>\n",
       "      <td>1.7</td>\n",
       "      <td>9</td>\n",
       "      <td>10</td>\n",
       "      <td>26.7</td>\n",
       "      <td>100.0</td>\n",
       "      <td>NaN</td>\n",
       "      <td>9.0</td>\n",
       "      <td>6.0</td>\n",
       "      <td>NaN</td>\n",
       "      <td>NaN</td>\n",
       "      <td>6.0</td>\n",
       "      <td>9.0</td>\n",
       "      <td>화장품</td>\n",
       "    </tr>\n",
       "    <tr>\n",
       "      <th>1</th>\n",
       "      <td>21</td>\n",
       "      <td>0</td>\n",
       "      <td>353450</td>\n",
       "      <td>9</td>\n",
       "      <td>39272</td>\n",
       "      <td>1.2</td>\n",
       "      <td>6</td>\n",
       "      <td>8</td>\n",
       "      <td>11.1</td>\n",
       "      <td>37.5</td>\n",
       "      <td>NaN</td>\n",
       "      <td>5.0</td>\n",
       "      <td>4.0</td>\n",
       "      <td>NaN</td>\n",
       "      <td>3.0</td>\n",
       "      <td>NaN</td>\n",
       "      <td>6.0</td>\n",
       "      <td>영캐주얼</td>\n",
       "    </tr>\n",
       "    <tr>\n",
       "      <th>2</th>\n",
       "      <td>23</td>\n",
       "      <td>0</td>\n",
       "      <td>5671400</td>\n",
       "      <td>36</td>\n",
       "      <td>157539</td>\n",
       "      <td>2.8</td>\n",
       "      <td>22</td>\n",
       "      <td>16</td>\n",
       "      <td>5.6</td>\n",
       "      <td>37.5</td>\n",
       "      <td>7.0</td>\n",
       "      <td>17.0</td>\n",
       "      <td>12.0</td>\n",
       "      <td>NaN</td>\n",
       "      <td>10.0</td>\n",
       "      <td>11.0</td>\n",
       "      <td>15.0</td>\n",
       "      <td>장신구</td>\n",
       "    </tr>\n",
       "    <tr>\n",
       "      <th>3</th>\n",
       "      <td>26</td>\n",
       "      <td>0</td>\n",
       "      <td>1964000</td>\n",
       "      <td>28</td>\n",
       "      <td>70143</td>\n",
       "      <td>1.4</td>\n",
       "      <td>15</td>\n",
       "      <td>14</td>\n",
       "      <td>39.3</td>\n",
       "      <td>28.6</td>\n",
       "      <td>5.0</td>\n",
       "      <td>8.0</td>\n",
       "      <td>15.0</td>\n",
       "      <td>NaN</td>\n",
       "      <td>NaN</td>\n",
       "      <td>18.0</td>\n",
       "      <td>10.0</td>\n",
       "      <td>화장품</td>\n",
       "    </tr>\n",
       "    <tr>\n",
       "      <th>4</th>\n",
       "      <td>35</td>\n",
       "      <td>0</td>\n",
       "      <td>885000</td>\n",
       "      <td>5</td>\n",
       "      <td>177000</td>\n",
       "      <td>6.0</td>\n",
       "      <td>5</td>\n",
       "      <td>2</td>\n",
       "      <td>0.0</td>\n",
       "      <td>100.0</td>\n",
       "      <td>NaN</td>\n",
       "      <td>NaN</td>\n",
       "      <td>5.0</td>\n",
       "      <td>NaN</td>\n",
       "      <td>NaN</td>\n",
       "      <td>5.0</td>\n",
       "      <td>NaN</td>\n",
       "      <td>피혁A</td>\n",
       "    </tr>\n",
       "  </tbody>\n",
       "</table>\n",
       "</div>"
      ],
      "text/plain": [
       "   custid  gender     총구매액  구매건수  평균구매가격  평균할부개월수  구매브랜드종류  내점일수  수입상품_구매비율  \\\n",
       "0      18       0   680100    15   45340      1.7        9    10       26.7   \n",
       "1      21       0   353450     9   39272      1.2        6     8       11.1   \n",
       "2      23       0  5671400    36  157539      2.8       22    16        5.6   \n",
       "3      26       0  1964000    28   70143      1.4       15    14       39.3   \n",
       "4      35       0   885000     5  177000      6.0        5     2        0.0   \n",
       "\n",
       "   주말방문비율  가을_구매건수  겨울_구매건수  봄_구매건수  여름_구매건수  아침_구매건수  저녁_구매건수  점심_구매건수 주구매코너  \n",
       "0   100.0      NaN      9.0     6.0      NaN      NaN      6.0      9.0   화장품  \n",
       "1    37.5      NaN      5.0     4.0      NaN      3.0      NaN      6.0  영캐주얼  \n",
       "2    37.5      7.0     17.0    12.0      NaN     10.0     11.0     15.0   장신구  \n",
       "3    28.6      5.0      8.0    15.0      NaN      NaN     18.0     10.0   화장품  \n",
       "4   100.0      NaN      NaN     5.0      NaN      NaN      5.0      NaN   피혁A  "
      ]
     },
     "execution_count": 274,
     "metadata": {},
     "output_type": "execute_result"
    }
   ],
   "source": [
    "df1.head()"
   ]
  },
  {
   "cell_type": "code",
   "execution_count": 275,
   "metadata": {},
   "outputs": [
    {
     "name": "stderr",
     "output_type": "stream",
     "text": [
      "<ipython-input-275-6d9446042fbf>:1: FutureWarning: Indexing with multiple keys (implicitly converted to a tuple of keys) will be deprecated, use a list instead.\n",
      "  df1.groupby(['총구매액','구매건수'])['평균구매가격','평균할부개월수'].agg('sum','mean').head()\n"
     ]
    },
    {
     "data": {
      "text/html": [
       "<div>\n",
       "<style scoped>\n",
       "    .dataframe tbody tr th:only-of-type {\n",
       "        vertical-align: middle;\n",
       "    }\n",
       "\n",
       "    .dataframe tbody tr th {\n",
       "        vertical-align: top;\n",
       "    }\n",
       "\n",
       "    .dataframe thead th {\n",
       "        text-align: right;\n",
       "    }\n",
       "</style>\n",
       "<table border=\"1\" class=\"dataframe\">\n",
       "  <thead>\n",
       "    <tr style=\"text-align: right;\">\n",
       "      <th></th>\n",
       "      <th></th>\n",
       "      <th>평균구매가격</th>\n",
       "      <th>평균할부개월수</th>\n",
       "    </tr>\n",
       "    <tr>\n",
       "      <th>총구매액</th>\n",
       "      <th>구매건수</th>\n",
       "      <th></th>\n",
       "      <th></th>\n",
       "    </tr>\n",
       "  </thead>\n",
       "  <tbody>\n",
       "    <tr>\n",
       "      <th>-1237971</th>\n",
       "      <th>17</th>\n",
       "      <td>-72822</td>\n",
       "      <td>1.7</td>\n",
       "    </tr>\n",
       "    <tr>\n",
       "      <th>-404945</th>\n",
       "      <th>29</th>\n",
       "      <td>-13964</td>\n",
       "      <td>1.2</td>\n",
       "    </tr>\n",
       "    <tr>\n",
       "      <th>-81754</th>\n",
       "      <th>6</th>\n",
       "      <td>-13626</td>\n",
       "      <td>3.2</td>\n",
       "    </tr>\n",
       "    <tr>\n",
       "      <th>6500</th>\n",
       "      <th>9</th>\n",
       "      <td>722</td>\n",
       "      <td>4.3</td>\n",
       "    </tr>\n",
       "    <tr>\n",
       "      <th>24000</th>\n",
       "      <th>1</th>\n",
       "      <td>24000</td>\n",
       "      <td>1.0</td>\n",
       "    </tr>\n",
       "  </tbody>\n",
       "</table>\n",
       "</div>"
      ],
      "text/plain": [
       "               평균구매가격  평균할부개월수\n",
       "총구매액     구매건수                 \n",
       "-1237971 17    -72822      1.7\n",
       "-404945  29    -13964      1.2\n",
       "-81754   6     -13626      3.2\n",
       " 6500    9        722      4.3\n",
       " 24000   1      24000      1.0"
      ]
     },
     "execution_count": 275,
     "metadata": {},
     "output_type": "execute_result"
    }
   ],
   "source": [
    "df1.groupby(['총구매액','구매건수'])['평균구매가격','평균할부개월수'].agg('sum','mean').head()"
   ]
  },
  {
   "cell_type": "code",
   "execution_count": 276,
   "metadata": {},
   "outputs": [],
   "source": [
    "df1_sum = df1.groupby('주구매코너')['구매건수'].sum()"
   ]
  },
  {
   "cell_type": "code",
   "execution_count": 277,
   "metadata": {},
   "outputs": [
    {
     "data": {
      "text/plain": [
       "주구매코너\n",
       "가구          100\n",
       "가전          315\n",
       "기타바이어       149\n",
       "니트단품       2542\n",
       "도자기크리스탈     261\n",
       "Name: 구매건수, dtype: int64"
      ]
     },
     "execution_count": 277,
     "metadata": {},
     "output_type": "execute_result"
    }
   ],
   "source": [
    "df1_sum.head()"
   ]
  },
  {
   "cell_type": "code",
   "execution_count": 278,
   "metadata": {},
   "outputs": [],
   "source": [
    "df1_sum = df1_sum.reset_index()\n",
    "df1_sum.columns = ['주구매코너', '구매건수']"
   ]
  },
  {
   "cell_type": "code",
   "execution_count": 279,
   "metadata": {},
   "outputs": [
    {
     "data": {
      "text/html": [
       "<div>\n",
       "<style scoped>\n",
       "    .dataframe tbody tr th:only-of-type {\n",
       "        vertical-align: middle;\n",
       "    }\n",
       "\n",
       "    .dataframe tbody tr th {\n",
       "        vertical-align: top;\n",
       "    }\n",
       "\n",
       "    .dataframe thead th {\n",
       "        text-align: right;\n",
       "    }\n",
       "</style>\n",
       "<table border=\"1\" class=\"dataframe\">\n",
       "  <thead>\n",
       "    <tr style=\"text-align: right;\">\n",
       "      <th></th>\n",
       "      <th>주구매코너</th>\n",
       "      <th>구매건수</th>\n",
       "    </tr>\n",
       "  </thead>\n",
       "  <tbody>\n",
       "    <tr>\n",
       "      <th>0</th>\n",
       "      <td>가구</td>\n",
       "      <td>100</td>\n",
       "    </tr>\n",
       "    <tr>\n",
       "      <th>1</th>\n",
       "      <td>가전</td>\n",
       "      <td>315</td>\n",
       "    </tr>\n",
       "    <tr>\n",
       "      <th>2</th>\n",
       "      <td>기타바이어</td>\n",
       "      <td>149</td>\n",
       "    </tr>\n",
       "    <tr>\n",
       "      <th>3</th>\n",
       "      <td>니트단품</td>\n",
       "      <td>2542</td>\n",
       "    </tr>\n",
       "    <tr>\n",
       "      <th>4</th>\n",
       "      <td>도자기크리스탈</td>\n",
       "      <td>261</td>\n",
       "    </tr>\n",
       "    <tr>\n",
       "      <th>5</th>\n",
       "      <td>디자이너부띠끄</td>\n",
       "      <td>2219</td>\n",
       "    </tr>\n",
       "    <tr>\n",
       "      <th>6</th>\n",
       "      <td>문화완구</td>\n",
       "      <td>848</td>\n",
       "    </tr>\n",
       "    <tr>\n",
       "      <th>7</th>\n",
       "      <td>섬유</td>\n",
       "      <td>1627</td>\n",
       "    </tr>\n",
       "    <tr>\n",
       "      <th>8</th>\n",
       "      <td>수입명품</td>\n",
       "      <td>4846</td>\n",
       "    </tr>\n",
       "    <tr>\n",
       "      <th>9</th>\n",
       "      <td>스포츠</td>\n",
       "      <td>10664</td>\n",
       "    </tr>\n",
       "    <tr>\n",
       "      <th>10</th>\n",
       "      <td>엘레강스캐주얼</td>\n",
       "      <td>2242</td>\n",
       "    </tr>\n",
       "    <tr>\n",
       "      <th>11</th>\n",
       "      <td>영캐주얼</td>\n",
       "      <td>8285</td>\n",
       "    </tr>\n",
       "    <tr>\n",
       "      <th>12</th>\n",
       "      <td>유니캐주얼</td>\n",
       "      <td>10681</td>\n",
       "    </tr>\n",
       "    <tr>\n",
       "      <th>13</th>\n",
       "      <td>유아동복</td>\n",
       "      <td>14052</td>\n",
       "    </tr>\n",
       "    <tr>\n",
       "      <th>14</th>\n",
       "      <td>일반식품</td>\n",
       "      <td>76174</td>\n",
       "    </tr>\n",
       "    <tr>\n",
       "      <th>15</th>\n",
       "      <td>장신구</td>\n",
       "      <td>1165</td>\n",
       "    </tr>\n",
       "    <tr>\n",
       "      <th>16</th>\n",
       "      <td>정장셔츠</td>\n",
       "      <td>1259</td>\n",
       "    </tr>\n",
       "    <tr>\n",
       "      <th>17</th>\n",
       "      <td>조리욕실</td>\n",
       "      <td>607</td>\n",
       "    </tr>\n",
       "    <tr>\n",
       "      <th>18</th>\n",
       "      <td>침구수예</td>\n",
       "      <td>80</td>\n",
       "    </tr>\n",
       "    <tr>\n",
       "      <th>19</th>\n",
       "      <td>캐릭터캐주얼</td>\n",
       "      <td>5212</td>\n",
       "    </tr>\n",
       "    <tr>\n",
       "      <th>20</th>\n",
       "      <td>타운모피</td>\n",
       "      <td>148</td>\n",
       "    </tr>\n",
       "    <tr>\n",
       "      <th>21</th>\n",
       "      <td>트래디셔널캐주얼</td>\n",
       "      <td>1771</td>\n",
       "    </tr>\n",
       "    <tr>\n",
       "      <th>22</th>\n",
       "      <td>피혁A</td>\n",
       "      <td>880</td>\n",
       "    </tr>\n",
       "    <tr>\n",
       "      <th>23</th>\n",
       "      <td>피혁B</td>\n",
       "      <td>825</td>\n",
       "    </tr>\n",
       "    <tr>\n",
       "      <th>24</th>\n",
       "      <td>화장품</td>\n",
       "      <td>25740</td>\n",
       "    </tr>\n",
       "  </tbody>\n",
       "</table>\n",
       "</div>"
      ],
      "text/plain": [
       "       주구매코너   구매건수\n",
       "0         가구    100\n",
       "1         가전    315\n",
       "2      기타바이어    149\n",
       "3       니트단품   2542\n",
       "4    도자기크리스탈    261\n",
       "5    디자이너부띠끄   2219\n",
       "6       문화완구    848\n",
       "7         섬유   1627\n",
       "8       수입명품   4846\n",
       "9        스포츠  10664\n",
       "10   엘레강스캐주얼   2242\n",
       "11      영캐주얼   8285\n",
       "12     유니캐주얼  10681\n",
       "13      유아동복  14052\n",
       "14      일반식품  76174\n",
       "15       장신구   1165\n",
       "16      정장셔츠   1259\n",
       "17      조리욕실    607\n",
       "18      침구수예     80\n",
       "19    캐릭터캐주얼   5212\n",
       "20      타운모피    148\n",
       "21  트래디셔널캐주얼   1771\n",
       "22       피혁A    880\n",
       "23       피혁B    825\n",
       "24       화장품  25740"
      ]
     },
     "execution_count": 279,
     "metadata": {},
     "output_type": "execute_result"
    }
   ],
   "source": [
    "df1_sum"
   ]
  },
  {
   "cell_type": "code",
   "execution_count": 280,
   "metadata": {},
   "outputs": [
    {
     "data": {
      "text/html": [
       "<div>\n",
       "<style scoped>\n",
       "    .dataframe tbody tr th:only-of-type {\n",
       "        vertical-align: middle;\n",
       "    }\n",
       "\n",
       "    .dataframe tbody tr th {\n",
       "        vertical-align: top;\n",
       "    }\n",
       "\n",
       "    .dataframe thead th {\n",
       "        text-align: right;\n",
       "    }\n",
       "</style>\n",
       "<table border=\"1\" class=\"dataframe\">\n",
       "  <thead>\n",
       "    <tr style=\"text-align: right;\">\n",
       "      <th></th>\n",
       "      <th>custid</th>\n",
       "      <th>gender</th>\n",
       "      <th>총구매액</th>\n",
       "      <th>구매건수</th>\n",
       "      <th>평균구매가격</th>\n",
       "      <th>평균할부개월수</th>\n",
       "      <th>구매브랜드종류</th>\n",
       "      <th>내점일수</th>\n",
       "      <th>수입상품_구매비율</th>\n",
       "      <th>주말방문비율</th>\n",
       "      <th>가을_구매건수</th>\n",
       "      <th>겨울_구매건수</th>\n",
       "      <th>봄_구매건수</th>\n",
       "      <th>여름_구매건수</th>\n",
       "      <th>아침_구매건수</th>\n",
       "      <th>저녁_구매건수</th>\n",
       "      <th>점심_구매건수</th>\n",
       "      <th>주구매코너</th>\n",
       "    </tr>\n",
       "  </thead>\n",
       "  <tbody>\n",
       "    <tr>\n",
       "      <th>0</th>\n",
       "      <td>18</td>\n",
       "      <td>0</td>\n",
       "      <td>680100</td>\n",
       "      <td>15</td>\n",
       "      <td>45340</td>\n",
       "      <td>1.7</td>\n",
       "      <td>9</td>\n",
       "      <td>10</td>\n",
       "      <td>26.7</td>\n",
       "      <td>100.0</td>\n",
       "      <td>NaN</td>\n",
       "      <td>9.0</td>\n",
       "      <td>6.0</td>\n",
       "      <td>NaN</td>\n",
       "      <td>NaN</td>\n",
       "      <td>6.0</td>\n",
       "      <td>9.0</td>\n",
       "      <td>화장품</td>\n",
       "    </tr>\n",
       "    <tr>\n",
       "      <th>1</th>\n",
       "      <td>21</td>\n",
       "      <td>0</td>\n",
       "      <td>353450</td>\n",
       "      <td>9</td>\n",
       "      <td>39272</td>\n",
       "      <td>1.2</td>\n",
       "      <td>6</td>\n",
       "      <td>8</td>\n",
       "      <td>11.1</td>\n",
       "      <td>37.5</td>\n",
       "      <td>NaN</td>\n",
       "      <td>5.0</td>\n",
       "      <td>4.0</td>\n",
       "      <td>NaN</td>\n",
       "      <td>3.0</td>\n",
       "      <td>NaN</td>\n",
       "      <td>6.0</td>\n",
       "      <td>영캐주얼</td>\n",
       "    </tr>\n",
       "    <tr>\n",
       "      <th>2</th>\n",
       "      <td>23</td>\n",
       "      <td>0</td>\n",
       "      <td>5671400</td>\n",
       "      <td>36</td>\n",
       "      <td>157539</td>\n",
       "      <td>2.8</td>\n",
       "      <td>22</td>\n",
       "      <td>16</td>\n",
       "      <td>5.6</td>\n",
       "      <td>37.5</td>\n",
       "      <td>7.0</td>\n",
       "      <td>17.0</td>\n",
       "      <td>12.0</td>\n",
       "      <td>NaN</td>\n",
       "      <td>10.0</td>\n",
       "      <td>11.0</td>\n",
       "      <td>15.0</td>\n",
       "      <td>장신구</td>\n",
       "    </tr>\n",
       "  </tbody>\n",
       "</table>\n",
       "</div>"
      ],
      "text/plain": [
       "   custid  gender     총구매액  구매건수  평균구매가격  평균할부개월수  구매브랜드종류  내점일수  수입상품_구매비율  \\\n",
       "0      18       0   680100    15   45340      1.7        9    10       26.7   \n",
       "1      21       0   353450     9   39272      1.2        6     8       11.1   \n",
       "2      23       0  5671400    36  157539      2.8       22    16        5.6   \n",
       "\n",
       "   주말방문비율  가을_구매건수  겨울_구매건수  봄_구매건수  여름_구매건수  아침_구매건수  저녁_구매건수  점심_구매건수 주구매코너  \n",
       "0   100.0      NaN      9.0     6.0      NaN      NaN      6.0      9.0   화장품  \n",
       "1    37.5      NaN      5.0     4.0      NaN      3.0      NaN      6.0  영캐주얼  \n",
       "2    37.5      7.0     17.0    12.0      NaN     10.0     11.0     15.0   장신구  "
      ]
     },
     "execution_count": 280,
     "metadata": {},
     "output_type": "execute_result"
    }
   ],
   "source": [
    "df1.head(3)"
   ]
  },
  {
   "cell_type": "code",
   "execution_count": 281,
   "metadata": {},
   "outputs": [
    {
     "data": {
      "text/html": [
       "<div>\n",
       "<style scoped>\n",
       "    .dataframe tbody tr th:only-of-type {\n",
       "        vertical-align: middle;\n",
       "    }\n",
       "\n",
       "    .dataframe tbody tr th {\n",
       "        vertical-align: top;\n",
       "    }\n",
       "\n",
       "    .dataframe thead th {\n",
       "        text-align: right;\n",
       "    }\n",
       "</style>\n",
       "<table border=\"1\" class=\"dataframe\">\n",
       "  <thead>\n",
       "    <tr style=\"text-align: right;\">\n",
       "      <th></th>\n",
       "      <th>custid</th>\n",
       "      <th>gender</th>\n",
       "      <th>총구매액</th>\n",
       "      <th>구매건수_x</th>\n",
       "      <th>평균구매가격</th>\n",
       "      <th>평균할부개월수</th>\n",
       "      <th>구매브랜드종류</th>\n",
       "      <th>내점일수</th>\n",
       "      <th>수입상품_구매비율</th>\n",
       "      <th>주말방문비율</th>\n",
       "      <th>가을_구매건수</th>\n",
       "      <th>겨울_구매건수</th>\n",
       "      <th>봄_구매건수</th>\n",
       "      <th>여름_구매건수</th>\n",
       "      <th>아침_구매건수</th>\n",
       "      <th>저녁_구매건수</th>\n",
       "      <th>점심_구매건수</th>\n",
       "      <th>주구매코너</th>\n",
       "      <th>구매건수_y</th>\n",
       "    </tr>\n",
       "  </thead>\n",
       "  <tbody>\n",
       "    <tr>\n",
       "      <th>0</th>\n",
       "      <td>18</td>\n",
       "      <td>0</td>\n",
       "      <td>680100</td>\n",
       "      <td>15</td>\n",
       "      <td>45340</td>\n",
       "      <td>1.7</td>\n",
       "      <td>9</td>\n",
       "      <td>10</td>\n",
       "      <td>26.7</td>\n",
       "      <td>100.0</td>\n",
       "      <td>NaN</td>\n",
       "      <td>9.0</td>\n",
       "      <td>6.0</td>\n",
       "      <td>NaN</td>\n",
       "      <td>NaN</td>\n",
       "      <td>6.0</td>\n",
       "      <td>9.0</td>\n",
       "      <td>화장품</td>\n",
       "      <td>25740</td>\n",
       "    </tr>\n",
       "    <tr>\n",
       "      <th>1</th>\n",
       "      <td>21</td>\n",
       "      <td>0</td>\n",
       "      <td>353450</td>\n",
       "      <td>9</td>\n",
       "      <td>39272</td>\n",
       "      <td>1.2</td>\n",
       "      <td>6</td>\n",
       "      <td>8</td>\n",
       "      <td>11.1</td>\n",
       "      <td>37.5</td>\n",
       "      <td>NaN</td>\n",
       "      <td>5.0</td>\n",
       "      <td>4.0</td>\n",
       "      <td>NaN</td>\n",
       "      <td>3.0</td>\n",
       "      <td>NaN</td>\n",
       "      <td>6.0</td>\n",
       "      <td>영캐주얼</td>\n",
       "      <td>8285</td>\n",
       "    </tr>\n",
       "    <tr>\n",
       "      <th>2</th>\n",
       "      <td>23</td>\n",
       "      <td>0</td>\n",
       "      <td>5671400</td>\n",
       "      <td>36</td>\n",
       "      <td>157539</td>\n",
       "      <td>2.8</td>\n",
       "      <td>22</td>\n",
       "      <td>16</td>\n",
       "      <td>5.6</td>\n",
       "      <td>37.5</td>\n",
       "      <td>7.0</td>\n",
       "      <td>17.0</td>\n",
       "      <td>12.0</td>\n",
       "      <td>NaN</td>\n",
       "      <td>10.0</td>\n",
       "      <td>11.0</td>\n",
       "      <td>15.0</td>\n",
       "      <td>장신구</td>\n",
       "      <td>1165</td>\n",
       "    </tr>\n",
       "    <tr>\n",
       "      <th>3</th>\n",
       "      <td>26</td>\n",
       "      <td>0</td>\n",
       "      <td>1964000</td>\n",
       "      <td>28</td>\n",
       "      <td>70143</td>\n",
       "      <td>1.4</td>\n",
       "      <td>15</td>\n",
       "      <td>14</td>\n",
       "      <td>39.3</td>\n",
       "      <td>28.6</td>\n",
       "      <td>5.0</td>\n",
       "      <td>8.0</td>\n",
       "      <td>15.0</td>\n",
       "      <td>NaN</td>\n",
       "      <td>NaN</td>\n",
       "      <td>18.0</td>\n",
       "      <td>10.0</td>\n",
       "      <td>화장품</td>\n",
       "      <td>25740</td>\n",
       "    </tr>\n",
       "    <tr>\n",
       "      <th>4</th>\n",
       "      <td>35</td>\n",
       "      <td>0</td>\n",
       "      <td>885000</td>\n",
       "      <td>5</td>\n",
       "      <td>177000</td>\n",
       "      <td>6.0</td>\n",
       "      <td>5</td>\n",
       "      <td>2</td>\n",
       "      <td>0.0</td>\n",
       "      <td>100.0</td>\n",
       "      <td>NaN</td>\n",
       "      <td>NaN</td>\n",
       "      <td>5.0</td>\n",
       "      <td>NaN</td>\n",
       "      <td>NaN</td>\n",
       "      <td>5.0</td>\n",
       "      <td>NaN</td>\n",
       "      <td>피혁A</td>\n",
       "      <td>880</td>\n",
       "    </tr>\n",
       "    <tr>\n",
       "      <th>...</th>\n",
       "      <td>...</td>\n",
       "      <td>...</td>\n",
       "      <td>...</td>\n",
       "      <td>...</td>\n",
       "      <td>...</td>\n",
       "      <td>...</td>\n",
       "      <td>...</td>\n",
       "      <td>...</td>\n",
       "      <td>...</td>\n",
       "      <td>...</td>\n",
       "      <td>...</td>\n",
       "      <td>...</td>\n",
       "      <td>...</td>\n",
       "      <td>...</td>\n",
       "      <td>...</td>\n",
       "      <td>...</td>\n",
       "      <td>...</td>\n",
       "      <td>...</td>\n",
       "      <td>...</td>\n",
       "    </tr>\n",
       "    <tr>\n",
       "      <th>4995</th>\n",
       "      <td>49952</td>\n",
       "      <td>1</td>\n",
       "      <td>6666517</td>\n",
       "      <td>93</td>\n",
       "      <td>71683</td>\n",
       "      <td>1.8</td>\n",
       "      <td>27</td>\n",
       "      <td>39</td>\n",
       "      <td>10.8</td>\n",
       "      <td>43.6</td>\n",
       "      <td>13.0</td>\n",
       "      <td>33.0</td>\n",
       "      <td>14.0</td>\n",
       "      <td>33.0</td>\n",
       "      <td>8.0</td>\n",
       "      <td>41.0</td>\n",
       "      <td>44.0</td>\n",
       "      <td>일반식품</td>\n",
       "      <td>76174</td>\n",
       "    </tr>\n",
       "    <tr>\n",
       "      <th>4996</th>\n",
       "      <td>49954</td>\n",
       "      <td>0</td>\n",
       "      <td>3112100</td>\n",
       "      <td>17</td>\n",
       "      <td>183065</td>\n",
       "      <td>3.6</td>\n",
       "      <td>10</td>\n",
       "      <td>13</td>\n",
       "      <td>29.4</td>\n",
       "      <td>38.5</td>\n",
       "      <td>4.0</td>\n",
       "      <td>6.0</td>\n",
       "      <td>6.0</td>\n",
       "      <td>1.0</td>\n",
       "      <td>3.0</td>\n",
       "      <td>NaN</td>\n",
       "      <td>14.0</td>\n",
       "      <td>디자이너부띠끄</td>\n",
       "      <td>2219</td>\n",
       "    </tr>\n",
       "    <tr>\n",
       "      <th>4997</th>\n",
       "      <td>49957</td>\n",
       "      <td>1</td>\n",
       "      <td>5852482</td>\n",
       "      <td>37</td>\n",
       "      <td>158175</td>\n",
       "      <td>2.6</td>\n",
       "      <td>14</td>\n",
       "      <td>21</td>\n",
       "      <td>40.5</td>\n",
       "      <td>19.0</td>\n",
       "      <td>12.0</td>\n",
       "      <td>6.0</td>\n",
       "      <td>6.0</td>\n",
       "      <td>13.0</td>\n",
       "      <td>16.0</td>\n",
       "      <td>NaN</td>\n",
       "      <td>21.0</td>\n",
       "      <td>화장품</td>\n",
       "      <td>25740</td>\n",
       "    </tr>\n",
       "    <tr>\n",
       "      <th>4998</th>\n",
       "      <td>49975</td>\n",
       "      <td>1</td>\n",
       "      <td>654498</td>\n",
       "      <td>13</td>\n",
       "      <td>50346</td>\n",
       "      <td>2.5</td>\n",
       "      <td>10</td>\n",
       "      <td>7</td>\n",
       "      <td>7.7</td>\n",
       "      <td>14.3</td>\n",
       "      <td>6.0</td>\n",
       "      <td>4.0</td>\n",
       "      <td>2.0</td>\n",
       "      <td>1.0</td>\n",
       "      <td>NaN</td>\n",
       "      <td>2.0</td>\n",
       "      <td>11.0</td>\n",
       "      <td>피혁A</td>\n",
       "      <td>880</td>\n",
       "    </tr>\n",
       "    <tr>\n",
       "      <th>4999</th>\n",
       "      <td>49993</td>\n",
       "      <td>1</td>\n",
       "      <td>2554723</td>\n",
       "      <td>32</td>\n",
       "      <td>79835</td>\n",
       "      <td>1.7</td>\n",
       "      <td>9</td>\n",
       "      <td>26</td>\n",
       "      <td>21.9</td>\n",
       "      <td>34.6</td>\n",
       "      <td>6.0</td>\n",
       "      <td>5.0</td>\n",
       "      <td>10.0</td>\n",
       "      <td>11.0</td>\n",
       "      <td>8.0</td>\n",
       "      <td>5.0</td>\n",
       "      <td>19.0</td>\n",
       "      <td>일반식품</td>\n",
       "      <td>76174</td>\n",
       "    </tr>\n",
       "  </tbody>\n",
       "</table>\n",
       "<p>5000 rows × 19 columns</p>\n",
       "</div>"
      ],
      "text/plain": [
       "      custid  gender     총구매액  구매건수_x  평균구매가격  평균할부개월수  구매브랜드종류  내점일수  \\\n",
       "0         18       0   680100      15   45340      1.7        9    10   \n",
       "1         21       0   353450       9   39272      1.2        6     8   \n",
       "2         23       0  5671400      36  157539      2.8       22    16   \n",
       "3         26       0  1964000      28   70143      1.4       15    14   \n",
       "4         35       0   885000       5  177000      6.0        5     2   \n",
       "...      ...     ...      ...     ...     ...      ...      ...   ...   \n",
       "4995   49952       1  6666517      93   71683      1.8       27    39   \n",
       "4996   49954       0  3112100      17  183065      3.6       10    13   \n",
       "4997   49957       1  5852482      37  158175      2.6       14    21   \n",
       "4998   49975       1   654498      13   50346      2.5       10     7   \n",
       "4999   49993       1  2554723      32   79835      1.7        9    26   \n",
       "\n",
       "      수입상품_구매비율  주말방문비율  가을_구매건수  겨울_구매건수  봄_구매건수  여름_구매건수  아침_구매건수  저녁_구매건수  \\\n",
       "0          26.7   100.0      NaN      9.0     6.0      NaN      NaN      6.0   \n",
       "1          11.1    37.5      NaN      5.0     4.0      NaN      3.0      NaN   \n",
       "2           5.6    37.5      7.0     17.0    12.0      NaN     10.0     11.0   \n",
       "3          39.3    28.6      5.0      8.0    15.0      NaN      NaN     18.0   \n",
       "4           0.0   100.0      NaN      NaN     5.0      NaN      NaN      5.0   \n",
       "...         ...     ...      ...      ...     ...      ...      ...      ...   \n",
       "4995       10.8    43.6     13.0     33.0    14.0     33.0      8.0     41.0   \n",
       "4996       29.4    38.5      4.0      6.0     6.0      1.0      3.0      NaN   \n",
       "4997       40.5    19.0     12.0      6.0     6.0     13.0     16.0      NaN   \n",
       "4998        7.7    14.3      6.0      4.0     2.0      1.0      NaN      2.0   \n",
       "4999       21.9    34.6      6.0      5.0    10.0     11.0      8.0      5.0   \n",
       "\n",
       "      점심_구매건수    주구매코너  구매건수_y  \n",
       "0         9.0      화장품   25740  \n",
       "1         6.0     영캐주얼    8285  \n",
       "2        15.0      장신구    1165  \n",
       "3        10.0      화장품   25740  \n",
       "4         NaN      피혁A     880  \n",
       "...       ...      ...     ...  \n",
       "4995     44.0     일반식품   76174  \n",
       "4996     14.0  디자이너부띠끄    2219  \n",
       "4997     21.0      화장품   25740  \n",
       "4998     11.0      피혁A     880  \n",
       "4999     19.0     일반식품   76174  \n",
       "\n",
       "[5000 rows x 19 columns]"
      ]
     },
     "execution_count": 281,
     "metadata": {},
     "output_type": "execute_result"
    }
   ],
   "source": [
    "df1_merge = df1.merge(df1_sum, how='left', on='주구매코너')\n",
    "df1_merge"
   ]
  },
  {
   "cell_type": "code",
   "execution_count": 282,
   "metadata": {},
   "outputs": [],
   "source": [
    "features = []"
   ]
  },
  {
   "cell_type": "code",
   "execution_count": 283,
   "metadata": {},
   "outputs": [
    {
     "data": {
      "text/html": [
       "<div>\n",
       "<style scoped>\n",
       "    .dataframe tbody tr th:only-of-type {\n",
       "        vertical-align: middle;\n",
       "    }\n",
       "\n",
       "    .dataframe tbody tr th {\n",
       "        vertical-align: top;\n",
       "    }\n",
       "\n",
       "    .dataframe thead th {\n",
       "        text-align: right;\n",
       "    }\n",
       "</style>\n",
       "<table border=\"1\" class=\"dataframe\">\n",
       "  <thead>\n",
       "    <tr style=\"text-align: right;\">\n",
       "      <th></th>\n",
       "      <th>custid</th>\n",
       "      <th>코너별구매건수</th>\n",
       "    </tr>\n",
       "  </thead>\n",
       "  <tbody>\n",
       "    <tr>\n",
       "      <th>0</th>\n",
       "      <td>18</td>\n",
       "      <td>15</td>\n",
       "    </tr>\n",
       "    <tr>\n",
       "      <th>1</th>\n",
       "      <td>21</td>\n",
       "      <td>9</td>\n",
       "    </tr>\n",
       "    <tr>\n",
       "      <th>2</th>\n",
       "      <td>23</td>\n",
       "      <td>36</td>\n",
       "    </tr>\n",
       "    <tr>\n",
       "      <th>3</th>\n",
       "      <td>26</td>\n",
       "      <td>28</td>\n",
       "    </tr>\n",
       "    <tr>\n",
       "      <th>4</th>\n",
       "      <td>35</td>\n",
       "      <td>5</td>\n",
       "    </tr>\n",
       "    <tr>\n",
       "      <th>...</th>\n",
       "      <td>...</td>\n",
       "      <td>...</td>\n",
       "    </tr>\n",
       "    <tr>\n",
       "      <th>4995</th>\n",
       "      <td>49952</td>\n",
       "      <td>93</td>\n",
       "    </tr>\n",
       "    <tr>\n",
       "      <th>4996</th>\n",
       "      <td>49954</td>\n",
       "      <td>17</td>\n",
       "    </tr>\n",
       "    <tr>\n",
       "      <th>4997</th>\n",
       "      <td>49957</td>\n",
       "      <td>37</td>\n",
       "    </tr>\n",
       "    <tr>\n",
       "      <th>4998</th>\n",
       "      <td>49975</td>\n",
       "      <td>13</td>\n",
       "    </tr>\n",
       "    <tr>\n",
       "      <th>4999</th>\n",
       "      <td>49993</td>\n",
       "      <td>32</td>\n",
       "    </tr>\n",
       "  </tbody>\n",
       "</table>\n",
       "<p>5000 rows × 2 columns</p>\n",
       "</div>"
      ],
      "text/plain": [
       "      custid  코너별구매건수\n",
       "0         18       15\n",
       "1         21        9\n",
       "2         23       36\n",
       "3         26       28\n",
       "4         35        5\n",
       "...      ...      ...\n",
       "4995   49952       93\n",
       "4996   49954       17\n",
       "4997   49957       37\n",
       "4998   49975       13\n",
       "4999   49993       32\n",
       "\n",
       "[5000 rows x 2 columns]"
      ]
     },
     "execution_count": 283,
     "metadata": {},
     "output_type": "execute_result"
    }
   ],
   "source": [
    "f = df1.groupby('custid')['구매건수'].agg([('코너별구매건수', 'sum')]).reset_index()\n",
    "features.append(f)\n",
    "f"
   ]
  },
  {
   "cell_type": "code",
   "execution_count": 284,
   "metadata": {},
   "outputs": [
    {
     "data": {
      "text/html": [
       "<div>\n",
       "<style scoped>\n",
       "    .dataframe tbody tr th:only-of-type {\n",
       "        vertical-align: middle;\n",
       "    }\n",
       "\n",
       "    .dataframe tbody tr th {\n",
       "        vertical-align: top;\n",
       "    }\n",
       "\n",
       "    .dataframe thead th {\n",
       "        text-align: right;\n",
       "    }\n",
       "</style>\n",
       "<table border=\"1\" class=\"dataframe\">\n",
       "  <thead>\n",
       "    <tr style=\"text-align: right;\">\n",
       "      <th></th>\n",
       "      <th>custid</th>\n",
       "      <th>평균할부개월수</th>\n",
       "    </tr>\n",
       "  </thead>\n",
       "  <tbody>\n",
       "    <tr>\n",
       "      <th>0</th>\n",
       "      <td>18</td>\n",
       "      <td>45340</td>\n",
       "    </tr>\n",
       "    <tr>\n",
       "      <th>1</th>\n",
       "      <td>21</td>\n",
       "      <td>39272</td>\n",
       "    </tr>\n",
       "    <tr>\n",
       "      <th>2</th>\n",
       "      <td>23</td>\n",
       "      <td>157539</td>\n",
       "    </tr>\n",
       "    <tr>\n",
       "      <th>3</th>\n",
       "      <td>26</td>\n",
       "      <td>70143</td>\n",
       "    </tr>\n",
       "    <tr>\n",
       "      <th>4</th>\n",
       "      <td>35</td>\n",
       "      <td>177000</td>\n",
       "    </tr>\n",
       "    <tr>\n",
       "      <th>...</th>\n",
       "      <td>...</td>\n",
       "      <td>...</td>\n",
       "    </tr>\n",
       "    <tr>\n",
       "      <th>4995</th>\n",
       "      <td>49952</td>\n",
       "      <td>71683</td>\n",
       "    </tr>\n",
       "    <tr>\n",
       "      <th>4996</th>\n",
       "      <td>49954</td>\n",
       "      <td>183065</td>\n",
       "    </tr>\n",
       "    <tr>\n",
       "      <th>4997</th>\n",
       "      <td>49957</td>\n",
       "      <td>158175</td>\n",
       "    </tr>\n",
       "    <tr>\n",
       "      <th>4998</th>\n",
       "      <td>49975</td>\n",
       "      <td>50346</td>\n",
       "    </tr>\n",
       "    <tr>\n",
       "      <th>4999</th>\n",
       "      <td>49993</td>\n",
       "      <td>79835</td>\n",
       "    </tr>\n",
       "  </tbody>\n",
       "</table>\n",
       "<p>5000 rows × 2 columns</p>\n",
       "</div>"
      ],
      "text/plain": [
       "      custid  평균할부개월수\n",
       "0         18    45340\n",
       "1         21    39272\n",
       "2         23   157539\n",
       "3         26    70143\n",
       "4         35   177000\n",
       "...      ...      ...\n",
       "4995   49952    71683\n",
       "4996   49954   183065\n",
       "4997   49957   158175\n",
       "4998   49975    50346\n",
       "4999   49993    79835\n",
       "\n",
       "[5000 rows x 2 columns]"
      ]
     },
     "execution_count": 284,
     "metadata": {},
     "output_type": "execute_result"
    }
   ],
   "source": [
    "f = df1.groupby('custid')['평균구매가격'].agg([('평균할부개월수', 'mean')]).reset_index()\n",
    "features.append(f); f"
   ]
  },
  {
   "cell_type": "code",
   "execution_count": 285,
   "metadata": {},
   "outputs": [
    {
     "data": {
      "text/plain": [
       "[      custid  코너별구매건수\n",
       " 0         18       15\n",
       " 1         21        9\n",
       " 2         23       36\n",
       " 3         26       28\n",
       " 4         35        5\n",
       " ...      ...      ...\n",
       " 4995   49952       93\n",
       " 4996   49954       17\n",
       " 4997   49957       37\n",
       " 4998   49975       13\n",
       " 4999   49993       32\n",
       " \n",
       " [5000 rows x 2 columns],\n",
       "       custid  평균할부개월수\n",
       " 0         18    45340\n",
       " 1         21    39272\n",
       " 2         23   157539\n",
       " 3         26    70143\n",
       " 4         35   177000\n",
       " ...      ...      ...\n",
       " 4995   49952    71683\n",
       " 4996   49954   183065\n",
       " 4997   49957   158175\n",
       " 4998   49975    50346\n",
       " 4999   49993    79835\n",
       " \n",
       " [5000 rows x 2 columns]]"
      ]
     },
     "execution_count": 285,
     "metadata": {},
     "output_type": "execute_result"
    }
   ],
   "source": [
    "features"
   ]
  },
  {
   "cell_type": "code",
   "execution_count": 286,
   "metadata": {},
   "outputs": [
    {
     "data": {
      "text/plain": [
       "4094     0.0002\n",
       "43910    0.0002\n",
       "44482    0.0002\n",
       "23230    0.0002\n",
       "49314    0.0002\n",
       "          ...  \n",
       "34110    0.0002\n",
       "47334    0.0002\n",
       "23873    0.0002\n",
       "17730    0.0002\n",
       "18433    0.0002\n",
       "Name: custid, Length: 5000, dtype: float64"
      ]
     },
     "execution_count": 286,
     "metadata": {},
     "output_type": "execute_result"
    }
   ],
   "source": [
    "df1['custid'].value_counts(normalize=True)"
   ]
  },
  {
   "cell_type": "code",
   "execution_count": 287,
   "metadata": {},
   "outputs": [
    {
     "data": {
      "text/plain": [
       "gender\n",
       "0    22705.701064\n",
       "1    30906.869822\n",
       "Name: custid, dtype: float64"
      ]
     },
     "execution_count": 287,
     "metadata": {},
     "output_type": "execute_result"
    }
   ],
   "source": [
    "df1.groupby('gender')['custid'].mean()"
   ]
  },
  {
   "cell_type": "code",
   "execution_count": 288,
   "metadata": {},
   "outputs": [],
   "source": [
    "df1.loc[(df1.gender.isnull())&(df1.gender=='woman'),'gender']='0'\n",
    "df1.loc[(df1.gender.isnull())&(df1.gender=='man'),'gender']='1'"
   ]
  },
  {
   "cell_type": "code",
   "execution_count": 289,
   "metadata": {},
   "outputs": [
    {
     "data": {
      "text/plain": [
       "False"
      ]
     },
     "execution_count": 289,
     "metadata": {},
     "output_type": "execute_result"
    }
   ],
   "source": [
    "df1.gender.isnull().any()"
   ]
  },
  {
   "cell_type": "code",
   "execution_count": 290,
   "metadata": {},
   "outputs": [
    {
     "data": {
      "text/plain": [
       "[      custid  gender     총구매액  구매건수  평균구매가격  평균할부개월수  구매브랜드종류  내점일수  \\\n",
       " 0         18       0   680100    15   45340      1.7        9    10   \n",
       " 1         21       0   353450     9   39272      1.2        6     8   \n",
       " 2         23       0  5671400    36  157539      2.8       22    16   \n",
       " 3         26       0  1964000    28   70143      1.4       15    14   \n",
       " 4         35       0   885000     5  177000      6.0        5     2   \n",
       " ...      ...     ...      ...   ...     ...      ...      ...   ...   \n",
       " 4995   49952       1  6666517    93   71683      1.8       27    39   \n",
       " 4996   49954       0  3112100    17  183065      3.6       10    13   \n",
       " 4997   49957       1  5852482    37  158175      2.6       14    21   \n",
       " 4998   49975       1   654498    13   50346      2.5       10     7   \n",
       " 4999   49993       1  2554723    32   79835      1.7        9    26   \n",
       " \n",
       "       수입상품_구매비율  주말방문비율  가을_구매건수  겨울_구매건수  봄_구매건수  여름_구매건수  아침_구매건수  저녁_구매건수  \\\n",
       " 0          26.7   100.0      NaN      9.0     6.0      NaN      NaN      6.0   \n",
       " 1          11.1    37.5      NaN      5.0     4.0      NaN      3.0      NaN   \n",
       " 2           5.6    37.5      7.0     17.0    12.0      NaN     10.0     11.0   \n",
       " 3          39.3    28.6      5.0      8.0    15.0      NaN      NaN     18.0   \n",
       " 4           0.0   100.0      NaN      NaN     5.0      NaN      NaN      5.0   \n",
       " ...         ...     ...      ...      ...     ...      ...      ...      ...   \n",
       " 4995       10.8    43.6     13.0     33.0    14.0     33.0      8.0     41.0   \n",
       " 4996       29.4    38.5      4.0      6.0     6.0      1.0      3.0      NaN   \n",
       " 4997       40.5    19.0     12.0      6.0     6.0     13.0     16.0      NaN   \n",
       " 4998        7.7    14.3      6.0      4.0     2.0      1.0      NaN      2.0   \n",
       " 4999       21.9    34.6      6.0      5.0    10.0     11.0      8.0      5.0   \n",
       " \n",
       "       점심_구매건수    주구매코너  \n",
       " 0         9.0      화장품  \n",
       " 1         6.0     영캐주얼  \n",
       " 2        15.0      장신구  \n",
       " 3        10.0      화장품  \n",
       " 4         NaN      피혁A  \n",
       " ...       ...      ...  \n",
       " 4995     44.0     일반식품  \n",
       " 4996     14.0  디자이너부띠끄  \n",
       " 4997     21.0      화장품  \n",
       " 4998     11.0      피혁A  \n",
       " 4999     19.0     일반식품  \n",
       " \n",
       " [5000 rows x 18 columns],\n",
       "       custid     총구매액  구매건수  평균구매가격  평균할부개월수  구매브랜드종류  내점일수  수입상품_구매비율  \\\n",
       " 0     100001  3439000    25  137560      2.2       19    16       12.0   \n",
       " 1     100002  2073090    39   53156      1.3       18    29        0.0   \n",
       " 2     100003  1303800    22   59264      1.8       14    12        0.0   \n",
       " 3     100004  6696522    46  145577      1.7       31    22       37.0   \n",
       " 4     100005  1297640    26   49909      2.3       13     9       11.5   \n",
       " ...      ...      ...   ...     ...      ...      ...   ...        ...   \n",
       " 4995  104996   670690     5  134138      1.4        5     4        0.0   \n",
       " 4996  104997   628700    13   48362      1.8       10     7        7.7   \n",
       " 4997  104998   960923    12   80077      1.8        7     7        0.0   \n",
       " 4998  104999   786600    14   56186      1.7       12     9       14.3   \n",
       " 4999  105000  2568073    76   33790      1.6       23    35       10.5   \n",
       " \n",
       "       주말방문비율  가을_구매건수  겨울_구매건수  봄_구매건수  여름_구매건수  아침_구매건수  저녁_구매건수  점심_구매건수  \\\n",
       " 0       31.2      5.0      4.0     7.0      9.0     13.0      1.0     11.0   \n",
       " 1       20.7     13.0      8.0    10.0      8.0      4.0     10.0     25.0   \n",
       " 2       41.7      6.0      7.0     3.0      6.0      3.0      1.0     18.0   \n",
       " 3       50.0      5.0     15.0     9.0     17.0      NaN      4.0     42.0   \n",
       " 4       22.2     18.0      NaN     5.0      3.0      NaN      NaN     26.0   \n",
       " ...      ...      ...      ...     ...      ...      ...      ...      ...   \n",
       " 4995    75.0      1.0      2.0     2.0      NaN      1.0      1.0      3.0   \n",
       " 4996    42.9      NaN      5.0     1.0      7.0      NaN      3.0     10.0   \n",
       " 4997    42.9      4.0      1.0     6.0      1.0      NaN      NaN     12.0   \n",
       " 4998    55.6      NaN      7.0     4.0      3.0      2.0      4.0      8.0   \n",
       " 4999    22.9     23.0     20.0     9.0     24.0     11.0      4.0     61.0   \n",
       " \n",
       "      주구매코너  \n",
       " 0      장신구  \n",
       " 1     유아동복  \n",
       " 2     유아동복  \n",
       " 3     수입명품  \n",
       " 4      스포츠  \n",
       " ...    ...  \n",
       " 4995  일반식품  \n",
       " 4996  조리욕실  \n",
       " 4997  일반식품  \n",
       " 4998   화장품  \n",
       " 4999  일반식품  \n",
       " \n",
       " [5000 rows x 17 columns]]"
      ]
     },
     "execution_count": 290,
     "metadata": {},
     "output_type": "execute_result"
    }
   ],
   "source": [
    "df1_new_data = [train, test]\n",
    "df1_new_data"
   ]
  },
  {
   "cell_type": "code",
   "execution_count": null,
   "metadata": {},
   "outputs": [],
   "source": []
  },
  {
   "cell_type": "code",
   "execution_count": 304,
   "metadata": {},
   "outputs": [],
   "source": [
    "from sklearn.impute import SimpleImputer \n",
    "imputer = SimpleImputer(missing_values=np.nan, strategy='mean')"
   ]
  },
  {
   "cell_type": "code",
   "execution_count": 305,
   "metadata": {},
   "outputs": [],
   "source": [
    "dfX = df1.drop(['custid','gender'], axis=1)"
   ]
  },
  {
   "cell_type": "code",
   "execution_count": 306,
   "metadata": {},
   "outputs": [],
   "source": [
    "dfy = df1['gender']"
   ]
  },
  {
   "cell_type": "code",
   "execution_count": 307,
   "metadata": {},
   "outputs": [],
   "source": [
    "import seaborn as sb\n",
    "sb.set()"
   ]
  },
  {
   "cell_type": "code",
   "execution_count": 308,
   "metadata": {},
   "outputs": [],
   "source": [
    "def bar_chart(feature):\n",
    "    woman = df1[df1['gender']==0][feature].value_counts()\n",
    "    man = df1[df1['gender']==1][feature].value_counts()\n",
    "    dff = pd.DataFrame([woman, man])\n",
    "    dff.index = ['woman', 'man']\n",
    "    dff.plot(kind='bar', stacked=True, figsize=(10,5))"
   ]
  },
  {
   "cell_type": "code",
   "execution_count": 309,
   "metadata": {},
   "outputs": [
    {
     "data": {
      "image/png": "[encoded data removed]",
      "text/plain": [
       "<Figure size 720x360 with 1 Axes>"
      ]
     },
     "metadata": {},
     "output_type": "display_data"
    }
   ],
   "source": [
    "bar_chart('gender')"
   ]
  },
  {
   "cell_type": "code",
   "execution_count": 310,
   "metadata": {},
   "outputs": [
    {
     "data": {
      "text/plain": [
       "0    0.6958\n",
       "1    0.3042\n",
       "Name: gender, dtype: float64"
      ]
     },
     "execution_count": 310,
     "metadata": {},
     "output_type": "execute_result"
    }
   ],
   "source": [
    "df1['gender'].value_counts(normalize=True)"
   ]
  },
  {
   "cell_type": "code",
   "execution_count": 311,
   "metadata": {},
   "outputs": [
    {
     "data": {
      "text/plain": [
       "0    3479\n",
       "1    1521\n",
       "Name: gender, dtype: int64"
      ]
     },
     "execution_count": 311,
     "metadata": {},
     "output_type": "execute_result"
    }
   ],
   "source": [
    "df1['gender'].value_counts()"
   ]
  },
  {
   "cell_type": "code",
   "execution_count": 312,
   "metadata": {},
   "outputs": [],
   "source": [
    "import seaborn as sns"
   ]
  },
  {
   "cell_type": "code",
   "execution_count": 224,
   "metadata": {},
   "outputs": [
    {
     "name": "stdout",
     "output_type": "stream",
     "text": [
      "      custid gender    total  count  purchase  months  brand  visit    IP  \\\n",
      "0         18      0   680100     15     45340     1.7      9     10  26.7   \n",
      "1         21      0   353450      9     39272     1.2      6      8  11.1   \n",
      "2         23      0  5671400     36    157539     2.8     22     16   5.6   \n",
      "3         26      0  1964000     28     70143     1.4     15     14  39.3   \n",
      "4         35      0   885000      5    177000     6.0      5      2   0.0   \n",
      "...      ...    ...      ...    ...       ...     ...    ...    ...   ...   \n",
      "4995   49952      1  6666517     93     71683     1.8     27     39  10.8   \n",
      "4996   49954      0  3112100     17    183065     3.6     10     13  29.4   \n",
      "4997   49957      1  5852482     37    158175     2.6     14     21  40.5   \n",
      "4998   49975      1   654498     13     50346     2.5     10      7   7.7   \n",
      "4999   49993      1  2554723     32     79835     1.7      9     26  21.9   \n",
      "\n",
      "      Weekend   가을_구매건수  겨울_구매건수  봄_구매건수  여름_구매건수  아침_구매건수  저녁_구매건수  점심_구매건수  \\\n",
      "0        100.0      NaN      9.0     6.0      NaN      NaN      6.0      9.0   \n",
      "1         37.5      NaN      5.0     4.0      NaN      3.0      NaN      6.0   \n",
      "2         37.5      7.0     17.0    12.0      NaN     10.0     11.0     15.0   \n",
      "3         28.6      5.0      8.0    15.0      NaN      NaN     18.0     10.0   \n",
      "4        100.0      NaN      NaN     5.0      NaN      NaN      5.0      NaN   \n",
      "...        ...      ...      ...     ...      ...      ...      ...      ...   \n",
      "4995      43.6     13.0     33.0    14.0     33.0      8.0     41.0     44.0   \n",
      "4996      38.5      4.0      6.0     6.0      1.0      3.0      NaN     14.0   \n",
      "4997      19.0     12.0      6.0     6.0     13.0     16.0      NaN     21.0   \n",
      "4998      14.3      6.0      4.0     2.0      1.0      NaN      2.0     11.0   \n",
      "4999      34.6      6.0      5.0    10.0     11.0      8.0      5.0     19.0   \n",
      "\n",
      "        주구매코너  \n",
      "0         화장품  \n",
      "1        영캐주얼  \n",
      "2         장신구  \n",
      "3         화장품  \n",
      "4         피혁A  \n",
      "...       ...  \n",
      "4995     일반식품  \n",
      "4996  디자이너부띠끄  \n",
      "4997      화장품  \n",
      "4998      피혁A  \n",
      "4999     일반식품  \n",
      "\n",
      "[5000 rows x 18 columns]\n"
     ]
    }
   ],
   "source": [
    "df1.rename(columns ={'총구매액':'total', '구매건수':'count','평균구매가격':'purchase', '평균할부개월수':'months',\n",
    "                     '구매브랜드종류':'brand','내점일수':'visit','수입상품_구매비율':'IP','주말방문비율':'Weekend '}, inplace=True)\n",
    "print(df1)"
   ]
  },
  {
   "cell_type": "code",
   "execution_count": 225,
   "metadata": {},
   "outputs": [
    {
     "name": "stdout",
     "output_type": "stream",
     "text": [
      "      custid gender    total  count  purchase  months  brand  visit    IP  \\\n",
      "0         18      0   680100     15     45340     1.7      9     10  26.7   \n",
      "1         21      0   353450      9     39272     1.2      6      8  11.1   \n",
      "2         23      0  5671400     36    157539     2.8     22     16   5.6   \n",
      "3         26      0  1964000     28     70143     1.4     15     14  39.3   \n",
      "4         35      0   885000      5    177000     6.0      5      2   0.0   \n",
      "...      ...    ...      ...    ...       ...     ...    ...    ...   ...   \n",
      "4995   49952      1  6666517     93     71683     1.8     27     39  10.8   \n",
      "4996   49954      0  3112100     17    183065     3.6     10     13  29.4   \n",
      "4997   49957      1  5852482     37    158175     2.6     14     21  40.5   \n",
      "4998   49975      1   654498     13     50346     2.5     10      7   7.7   \n",
      "4999   49993      1  2554723     32     79835     1.7      9     26  21.9   \n",
      "\n",
      "      Weekend   autumn  winter  spring  summer  morning  dinner  lunch  \\\n",
      "0        100.0     NaN     9.0     6.0     NaN      NaN     6.0    9.0   \n",
      "1         37.5     NaN     5.0     4.0     NaN      3.0     NaN    6.0   \n",
      "2         37.5     7.0    17.0    12.0     NaN     10.0    11.0   15.0   \n",
      "3         28.6     5.0     8.0    15.0     NaN      NaN    18.0   10.0   \n",
      "4        100.0     NaN     NaN     5.0     NaN      NaN     5.0    NaN   \n",
      "...        ...     ...     ...     ...     ...      ...     ...    ...   \n",
      "4995      43.6    13.0    33.0    14.0    33.0      8.0    41.0   44.0   \n",
      "4996      38.5     4.0     6.0     6.0     1.0      3.0     NaN   14.0   \n",
      "4997      19.0    12.0     6.0     6.0    13.0     16.0     NaN   21.0   \n",
      "4998      14.3     6.0     4.0     2.0     1.0      NaN     2.0   11.0   \n",
      "4999      34.6     6.0     5.0    10.0    11.0      8.0     5.0   19.0   \n",
      "\n",
      "       corner  \n",
      "0         화장품  \n",
      "1        영캐주얼  \n",
      "2         장신구  \n",
      "3         화장품  \n",
      "4         피혁A  \n",
      "...       ...  \n",
      "4995     일반식품  \n",
      "4996  디자이너부띠끄  \n",
      "4997      화장품  \n",
      "4998      피혁A  \n",
      "4999     일반식품  \n",
      "\n",
      "[5000 rows x 18 columns]\n"
     ]
    }
   ],
   "source": [
    "df1.rename(columns ={'가을_구매건수':'autumn', '겨울_구매건수':'winter','봄_구매건수':'spring', '여름_구매건수':'summer',\n",
    "                     '아침_구매건수':'morning','저녁_구매건수':'dinner','점심_구매건수':'lunch','주구매코너':'corner'}, inplace=True)\n",
    "print(df1)"
   ]
  },
  {
   "cell_type": "code",
   "execution_count": 226,
   "metadata": {},
   "outputs": [
    {
     "data": {
      "text/plain": [
       "<AxesSubplot:>"
      ]
     },
     "execution_count": 226,
     "metadata": {},
     "output_type": "execute_result"
    },
    {
     "data": {
      "image/png": "[encoded data removed]",
      "text/plain": [
       "<Figure size 432x288 with 2 Axes>"
      ]
     },
     "metadata": {},
     "output_type": "display_data"
    }
   ],
   "source": [
    "sns.heatmap(df1.corr(), annot=True)"
   ]
  },
  {
   "cell_type": "code",
   "execution_count": 227,
   "metadata": {},
   "outputs": [
    {
     "data": {
      "image/png": "[encoded data removed]",
      "text/plain": [
       "<Figure size 720x576 with 2 Axes>"
      ]
     },
     "metadata": {},
     "output_type": "display_data"
    }
   ],
   "source": [
    "sns.heatmap(df1.corr(),annot=True,cmap='RdYlGn',linewidths=0.2) #data.corr()-->correlation matrix\n",
    "fig=plt.gcf()\n",
    "fig.set_size_inches(10,8)\n",
    "plt.show()"
   ]
  },
  {
   "cell_type": "code",
   "execution_count": 228,
   "metadata": {},
   "outputs": [
    {
     "data": {
      "text/plain": [
       "일반식품        0.2612\n",
       "화장품         0.2412\n",
       "유니캐주얼       0.0820\n",
       "유아동복        0.0766\n",
       "스포츠         0.0602\n",
       "영캐주얼        0.0492\n",
       "캐릭터캐주얼      0.0376\n",
       "수입명품        0.0272\n",
       "섬유          0.0192\n",
       "트래디셔널캐주얼    0.0182\n",
       "니트단품        0.0182\n",
       "정장셔츠        0.0180\n",
       "엘레강스캐주얼     0.0156\n",
       "피혁A         0.0150\n",
       "장신구         0.0136\n",
       "피혁B         0.0112\n",
       "디자이너부띠끄     0.0102\n",
       "문화완구        0.0076\n",
       "조리욕실        0.0056\n",
       "가전          0.0036\n",
       "기타바이어       0.0024\n",
       "도자기크리스탈     0.0022\n",
       "침구수예        0.0016\n",
       "가구          0.0014\n",
       "타운모피        0.0012\n",
       "Name: corner, dtype: float64"
      ]
     },
     "execution_count": 228,
     "metadata": {},
     "output_type": "execute_result"
    }
   ],
   "source": [
    "df1['corner'].value_counts(normalize=True)"
   ]
  },
  {
   "cell_type": "code",
   "execution_count": 229,
   "metadata": {},
   "outputs": [],
   "source": [
    "corner_label = df1['corner']\\\n",
    "        .value_counts(ascending=False, normalize=True)\\\n",
    "        .index\n",
    "\n",
    "corner_vals = df1['corner']\\\n",
    "        .value_counts(ascending=False, normalize=True)\\\n",
    "        .values"
   ]
  },
  {
   "cell_type": "code",
   "execution_count": 230,
   "metadata": {},
   "outputs": [
    {
     "data": {
      "text/plain": [
       "Index(['일반식품', '화장품', '유니캐주얼', '유아동복', '스포츠', '영캐주얼', '캐릭터캐주얼', '수입명품', '섬유',\n",
       "       '트래디셔널캐주얼', '니트단품', '정장셔츠', '엘레강스캐주얼', '피혁A', '장신구', '피혁B', '디자이너부띠끄',\n",
       "       '문화완구', '조리욕실', '가전', '기타바이어', '도자기크리스탈', '침구수예', '가구', '타운모피'],\n",
       "      dtype='object')"
      ]
     },
     "execution_count": 230,
     "metadata": {},
     "output_type": "execute_result"
    }
   ],
   "source": [
    "corner_label"
   ]
  },
  {
   "cell_type": "code",
   "execution_count": 231,
   "metadata": {},
   "outputs": [
    {
     "data": {
      "text/plain": [
       "array([0.2612, 0.2412, 0.082 , 0.0766, 0.0602, 0.0492, 0.0376, 0.0272,\n",
       "       0.0192, 0.0182, 0.0182, 0.018 , 0.0156, 0.015 , 0.0136, 0.0112,\n",
       "       0.0102, 0.0076, 0.0056, 0.0036, 0.0024, 0.0022, 0.0016, 0.0014,\n",
       "       0.0012])"
      ]
     },
     "execution_count": 231,
     "metadata": {},
     "output_type": "execute_result"
    }
   ],
   "source": [
    "corner_vals"
   ]
  },
  {
   "cell_type": "code",
   "execution_count": 232,
   "metadata": {},
   "outputs": [
    {
     "data": {
      "image/png": "[encoded data removed]",
      "text/plain": [
       "<Figure size 432x288 with 1 Axes>"
      ]
     },
     "metadata": {},
     "output_type": "display_data"
    }
   ],
   "source": [
    "gender_label = df1['gender'].value_counts(ascending=False, normalize=True).index\n",
    "# y의 값\n",
    "gender_vals = df1['gender'].value_counts(ascending=False, normalize=True).values\n",
    "\n",
    "# y의 원 그래프를 작성\n",
    "plt.pie(gender_vals, labels=gender_label)\n",
    "plt.axis('equal')\n",
    "plt.show()"
   ]
  },
  {
   "cell_type": "code",
   "execution_count": 233,
   "metadata": {},
   "outputs": [
    {
     "data": {
      "text/html": [
       "<div>\n",
       "<style scoped>\n",
       "    .dataframe tbody tr th:only-of-type {\n",
       "        vertical-align: middle;\n",
       "    }\n",
       "\n",
       "    .dataframe tbody tr th {\n",
       "        vertical-align: top;\n",
       "    }\n",
       "\n",
       "    .dataframe thead th {\n",
       "        text-align: right;\n",
       "    }\n",
       "</style>\n",
       "<table border=\"1\" class=\"dataframe\">\n",
       "  <thead>\n",
       "    <tr style=\"text-align: right;\">\n",
       "      <th></th>\n",
       "      <th>custid</th>\n",
       "      <th>gender</th>\n",
       "      <th>total</th>\n",
       "      <th>count</th>\n",
       "      <th>purchase</th>\n",
       "      <th>months</th>\n",
       "      <th>brand</th>\n",
       "      <th>visit</th>\n",
       "      <th>IP</th>\n",
       "      <th>Weekend</th>\n",
       "      <th>autumn</th>\n",
       "      <th>winter</th>\n",
       "      <th>spring</th>\n",
       "      <th>summer</th>\n",
       "      <th>morning</th>\n",
       "      <th>dinner</th>\n",
       "      <th>lunch</th>\n",
       "      <th>corner</th>\n",
       "      <th>total_band</th>\n",
       "    </tr>\n",
       "  </thead>\n",
       "  <tbody>\n",
       "    <tr>\n",
       "      <th>0</th>\n",
       "      <td>18</td>\n",
       "      <td>0</td>\n",
       "      <td>680100</td>\n",
       "      <td>15</td>\n",
       "      <td>45340</td>\n",
       "      <td>1.7</td>\n",
       "      <td>9</td>\n",
       "      <td>10</td>\n",
       "      <td>26.7</td>\n",
       "      <td>100.0</td>\n",
       "      <td>NaN</td>\n",
       "      <td>9.0</td>\n",
       "      <td>6.0</td>\n",
       "      <td>NaN</td>\n",
       "      <td>NaN</td>\n",
       "      <td>6.0</td>\n",
       "      <td>9.0</td>\n",
       "      <td>화장품</td>\n",
       "      <td>3</td>\n",
       "    </tr>\n",
       "    <tr>\n",
       "      <th>1</th>\n",
       "      <td>21</td>\n",
       "      <td>0</td>\n",
       "      <td>353450</td>\n",
       "      <td>9</td>\n",
       "      <td>39272</td>\n",
       "      <td>1.2</td>\n",
       "      <td>6</td>\n",
       "      <td>8</td>\n",
       "      <td>11.1</td>\n",
       "      <td>37.5</td>\n",
       "      <td>NaN</td>\n",
       "      <td>5.0</td>\n",
       "      <td>4.0</td>\n",
       "      <td>NaN</td>\n",
       "      <td>3.0</td>\n",
       "      <td>NaN</td>\n",
       "      <td>6.0</td>\n",
       "      <td>영캐주얼</td>\n",
       "      <td>1</td>\n",
       "    </tr>\n",
       "    <tr>\n",
       "      <th>2</th>\n",
       "      <td>23</td>\n",
       "      <td>0</td>\n",
       "      <td>5671400</td>\n",
       "      <td>36</td>\n",
       "      <td>157539</td>\n",
       "      <td>2.8</td>\n",
       "      <td>22</td>\n",
       "      <td>16</td>\n",
       "      <td>5.6</td>\n",
       "      <td>37.5</td>\n",
       "      <td>7.0</td>\n",
       "      <td>17.0</td>\n",
       "      <td>12.0</td>\n",
       "      <td>NaN</td>\n",
       "      <td>10.0</td>\n",
       "      <td>11.0</td>\n",
       "      <td>15.0</td>\n",
       "      <td>장신구</td>\n",
       "      <td>4</td>\n",
       "    </tr>\n",
       "    <tr>\n",
       "      <th>3</th>\n",
       "      <td>26</td>\n",
       "      <td>0</td>\n",
       "      <td>1964000</td>\n",
       "      <td>28</td>\n",
       "      <td>70143</td>\n",
       "      <td>1.4</td>\n",
       "      <td>15</td>\n",
       "      <td>14</td>\n",
       "      <td>39.3</td>\n",
       "      <td>28.6</td>\n",
       "      <td>5.0</td>\n",
       "      <td>8.0</td>\n",
       "      <td>15.0</td>\n",
       "      <td>NaN</td>\n",
       "      <td>NaN</td>\n",
       "      <td>18.0</td>\n",
       "      <td>10.0</td>\n",
       "      <td>화장품</td>\n",
       "      <td>4</td>\n",
       "    </tr>\n",
       "    <tr>\n",
       "      <th>4</th>\n",
       "      <td>35</td>\n",
       "      <td>0</td>\n",
       "      <td>885000</td>\n",
       "      <td>5</td>\n",
       "      <td>177000</td>\n",
       "      <td>6.0</td>\n",
       "      <td>5</td>\n",
       "      <td>2</td>\n",
       "      <td>0.0</td>\n",
       "      <td>100.0</td>\n",
       "      <td>NaN</td>\n",
       "      <td>NaN</td>\n",
       "      <td>5.0</td>\n",
       "      <td>NaN</td>\n",
       "      <td>NaN</td>\n",
       "      <td>5.0</td>\n",
       "      <td>NaN</td>\n",
       "      <td>피혁A</td>\n",
       "      <td>4</td>\n",
       "    </tr>\n",
       "  </tbody>\n",
       "</table>\n",
       "</div>"
      ],
      "text/plain": [
       "   custid gender    total  count  purchase  months  brand  visit    IP  \\\n",
       "0      18      0   680100     15     45340     1.7      9     10  26.7   \n",
       "1      21      0   353450      9     39272     1.2      6      8  11.1   \n",
       "2      23      0  5671400     36    157539     2.8     22     16   5.6   \n",
       "3      26      0  1964000     28     70143     1.4     15     14  39.3   \n",
       "4      35      0   885000      5    177000     6.0      5      2   0.0   \n",
       "\n",
       "   Weekend   autumn  winter  spring  summer  morning  dinner  lunch corner  \\\n",
       "0     100.0     NaN     9.0     6.0     NaN      NaN     6.0    9.0    화장품   \n",
       "1      37.5     NaN     5.0     4.0     NaN      3.0     NaN    6.0   영캐주얼   \n",
       "2      37.5     7.0    17.0    12.0     NaN     10.0    11.0   15.0    장신구   \n",
       "3      28.6     5.0     8.0    15.0     NaN      NaN    18.0   10.0    화장품   \n",
       "4     100.0     NaN     NaN     5.0     NaN      NaN     5.0    NaN    피혁A   \n",
       "\n",
       "   total_band  \n",
       "0           3  \n",
       "1           1  \n",
       "2           4  \n",
       "3           4  \n",
       "4           4  "
      ]
     },
     "execution_count": 233,
     "metadata": {},
     "output_type": "execute_result"
    }
   ],
   "source": [
    "df1['total_band']=0\n",
    "df1.loc[df1['total']<=200000,'total_band']=0\n",
    "df1.loc[(df1['total']>200000)&(df1['total']<=400000),'total_band']=1\n",
    "df1.loc[(df1['total']>400000)&(df1['total']<=600000),'total_band']=2\n",
    "df1.loc[(df1['total']>600000)&(df1['total']<=800000),'total_band']=3\n",
    "df1.loc[df1['total']>800000,'total_band']=4\n",
    "df1.head()"
   ]
  },
  {
   "cell_type": "code",
   "execution_count": 234,
   "metadata": {},
   "outputs": [
    {
     "data": {
      "text/html": [
       "<style  type=\"text/css\" >\n",
       "#T_caa32761_5eb9_11eb_bfee_d050991d842crow0_col0{\n",
       "            background-color:  #ffff66;\n",
       "            color:  #000000;\n",
       "        }#T_caa32761_5eb9_11eb_bfee_d050991d842crow1_col0{\n",
       "            background-color:  #058266;\n",
       "            color:  #f1f1f1;\n",
       "        }#T_caa32761_5eb9_11eb_bfee_d050991d842crow2_col0{\n",
       "            background-color:  #048266;\n",
       "            color:  #f1f1f1;\n",
       "        }#T_caa32761_5eb9_11eb_bfee_d050991d842crow3_col0{\n",
       "            background-color:  #028066;\n",
       "            color:  #f1f1f1;\n",
       "        }#T_caa32761_5eb9_11eb_bfee_d050991d842crow4_col0{\n",
       "            background-color:  #008066;\n",
       "            color:  #f1f1f1;\n",
       "        }</style><table id=\"T_caa32761_5eb9_11eb_bfee_d050991d842c\" ><thead>    <tr>        <th class=\"blank level0\" ></th>        <th class=\"col_heading level0 col0\" >total_band</th>    </tr></thead><tbody>\n",
       "                <tr>\n",
       "                        <th id=\"T_caa32761_5eb9_11eb_bfee_d050991d842clevel0_row0\" class=\"row_heading level0 row0\" >4</th>\n",
       "                        <td id=\"T_caa32761_5eb9_11eb_bfee_d050991d842crow0_col0\" class=\"data row0 col0\" >3635</td>\n",
       "            </tr>\n",
       "            <tr>\n",
       "                        <th id=\"T_caa32761_5eb9_11eb_bfee_d050991d842clevel0_row1\" class=\"row_heading level0 row1\" >1</th>\n",
       "                        <td id=\"T_caa32761_5eb9_11eb_bfee_d050991d842crow1_col0\" class=\"data row1 col0\" >377</td>\n",
       "            </tr>\n",
       "            <tr>\n",
       "                        <th id=\"T_caa32761_5eb9_11eb_bfee_d050991d842clevel0_row2\" class=\"row_heading level0 row2\" >2</th>\n",
       "                        <td id=\"T_caa32761_5eb9_11eb_bfee_d050991d842crow2_col0\" class=\"data row2 col0\" >353</td>\n",
       "            </tr>\n",
       "            <tr>\n",
       "                        <th id=\"T_caa32761_5eb9_11eb_bfee_d050991d842clevel0_row3\" class=\"row_heading level0 row3\" >0</th>\n",
       "                        <td id=\"T_caa32761_5eb9_11eb_bfee_d050991d842crow3_col0\" class=\"data row3 col0\" >336</td>\n",
       "            </tr>\n",
       "            <tr>\n",
       "                        <th id=\"T_caa32761_5eb9_11eb_bfee_d050991d842clevel0_row4\" class=\"row_heading level0 row4\" >3</th>\n",
       "                        <td id=\"T_caa32761_5eb9_11eb_bfee_d050991d842crow4_col0\" class=\"data row4 col0\" >299</td>\n",
       "            </tr>\n",
       "    </tbody></table>"
      ],
      "text/plain": [
       "<pandas.io.formats.style.Styler at 0x1e4fa92ee50>"
      ]
     },
     "execution_count": 234,
     "metadata": {},
     "output_type": "execute_result"
    }
   ],
   "source": [
    "df1['total_band'].value_counts().to_frame().style.background_gradient(cmap='summer')"
   ]
  },
  {
   "cell_type": "code",
   "execution_count": null,
   "metadata": {},
   "outputs": [],
   "source": []
  },
  {
   "cell_type": "code",
   "execution_count": 235,
   "metadata": {},
   "outputs": [],
   "source": [
    "drop_cols = ['autumn', 'winter', 'spring','summer','morning','dinner','lunch']\n",
    "df1 = df1.drop(drop_cols, axis=1).drop(['custid'], axis=1)"
   ]
  },
  {
   "cell_type": "code",
   "execution_count": 236,
   "metadata": {},
   "outputs": [
    {
     "data": {
      "text/html": [
       "<div>\n",
       "<style scoped>\n",
       "    .dataframe tbody tr th:only-of-type {\n",
       "        vertical-align: middle;\n",
       "    }\n",
       "\n",
       "    .dataframe tbody tr th {\n",
       "        vertical-align: top;\n",
       "    }\n",
       "\n",
       "    .dataframe thead th {\n",
       "        text-align: right;\n",
       "    }\n",
       "</style>\n",
       "<table border=\"1\" class=\"dataframe\">\n",
       "  <thead>\n",
       "    <tr style=\"text-align: right;\">\n",
       "      <th></th>\n",
       "      <th>gender</th>\n",
       "      <th>total</th>\n",
       "      <th>count</th>\n",
       "      <th>purchase</th>\n",
       "      <th>months</th>\n",
       "      <th>brand</th>\n",
       "      <th>visit</th>\n",
       "      <th>IP</th>\n",
       "      <th>Weekend</th>\n",
       "      <th>corner</th>\n",
       "      <th>total_band</th>\n",
       "    </tr>\n",
       "  </thead>\n",
       "  <tbody>\n",
       "    <tr>\n",
       "      <th>0</th>\n",
       "      <td>0</td>\n",
       "      <td>680100</td>\n",
       "      <td>15</td>\n",
       "      <td>45340</td>\n",
       "      <td>1.7</td>\n",
       "      <td>9</td>\n",
       "      <td>10</td>\n",
       "      <td>26.7</td>\n",
       "      <td>100.0</td>\n",
       "      <td>화장품</td>\n",
       "      <td>3</td>\n",
       "    </tr>\n",
       "    <tr>\n",
       "      <th>1</th>\n",
       "      <td>0</td>\n",
       "      <td>353450</td>\n",
       "      <td>9</td>\n",
       "      <td>39272</td>\n",
       "      <td>1.2</td>\n",
       "      <td>6</td>\n",
       "      <td>8</td>\n",
       "      <td>11.1</td>\n",
       "      <td>37.5</td>\n",
       "      <td>영캐주얼</td>\n",
       "      <td>1</td>\n",
       "    </tr>\n",
       "    <tr>\n",
       "      <th>2</th>\n",
       "      <td>0</td>\n",
       "      <td>5671400</td>\n",
       "      <td>36</td>\n",
       "      <td>157539</td>\n",
       "      <td>2.8</td>\n",
       "      <td>22</td>\n",
       "      <td>16</td>\n",
       "      <td>5.6</td>\n",
       "      <td>37.5</td>\n",
       "      <td>장신구</td>\n",
       "      <td>4</td>\n",
       "    </tr>\n",
       "    <tr>\n",
       "      <th>3</th>\n",
       "      <td>0</td>\n",
       "      <td>1964000</td>\n",
       "      <td>28</td>\n",
       "      <td>70143</td>\n",
       "      <td>1.4</td>\n",
       "      <td>15</td>\n",
       "      <td>14</td>\n",
       "      <td>39.3</td>\n",
       "      <td>28.6</td>\n",
       "      <td>화장품</td>\n",
       "      <td>4</td>\n",
       "    </tr>\n",
       "    <tr>\n",
       "      <th>4</th>\n",
       "      <td>0</td>\n",
       "      <td>885000</td>\n",
       "      <td>5</td>\n",
       "      <td>177000</td>\n",
       "      <td>6.0</td>\n",
       "      <td>5</td>\n",
       "      <td>2</td>\n",
       "      <td>0.0</td>\n",
       "      <td>100.0</td>\n",
       "      <td>피혁A</td>\n",
       "      <td>4</td>\n",
       "    </tr>\n",
       "  </tbody>\n",
       "</table>\n",
       "</div>"
      ],
      "text/plain": [
       "  gender    total  count  purchase  months  brand  visit    IP  Weekend   \\\n",
       "0      0   680100     15     45340     1.7      9     10  26.7     100.0   \n",
       "1      0   353450      9     39272     1.2      6      8  11.1      37.5   \n",
       "2      0  5671400     36    157539     2.8     22     16   5.6      37.5   \n",
       "3      0  1964000     28     70143     1.4     15     14  39.3      28.6   \n",
       "4      0   885000      5    177000     6.0      5      2   0.0     100.0   \n",
       "\n",
       "  corner  total_band  \n",
       "0    화장품           3  \n",
       "1   영캐주얼           1  \n",
       "2    장신구           4  \n",
       "3    화장품           4  \n",
       "4    피혁A           4  "
      ]
     },
     "execution_count": 236,
     "metadata": {},
     "output_type": "execute_result"
    }
   ],
   "source": [
    "df1.head()"
   ]
  },
  {
   "cell_type": "code",
   "execution_count": 237,
   "metadata": {},
   "outputs": [
    {
     "name": "stdout",
     "output_type": "stream",
     "text": [
      "<class 'pandas.core.frame.DataFrame'>\n",
      "RangeIndex: 5000 entries, 0 to 4999\n",
      "Data columns (total 11 columns):\n",
      " #   Column      Non-Null Count  Dtype  \n",
      "---  ------      --------------  -----  \n",
      " 0   gender      5000 non-null   object \n",
      " 1   total       5000 non-null   int64  \n",
      " 2   count       5000 non-null   int64  \n",
      " 3   purchase    5000 non-null   int64  \n",
      " 4   months      5000 non-null   float64\n",
      " 5   brand       5000 non-null   int64  \n",
      " 6   visit       5000 non-null   int64  \n",
      " 7   IP          5000 non-null   float64\n",
      " 8   Weekend     5000 non-null   float64\n",
      " 9   corner      5000 non-null   object \n",
      " 10  total_band  5000 non-null   int64  \n",
      "dtypes: float64(3), int64(6), object(2)\n",
      "memory usage: 429.8+ KB\n"
     ]
    }
   ],
   "source": [
    "df1.info()"
   ]
  },
  {
   "cell_type": "code",
   "execution_count": null,
   "metadata": {},
   "outputs": [],
   "source": []
  },
  {
   "cell_type": "code",
   "execution_count": 238,
   "metadata": {},
   "outputs": [],
   "source": [
    "from sklearn.model_selection import train_test_split"
   ]
  },
  {
   "cell_type": "code",
   "execution_count": 239,
   "metadata": {},
   "outputs": [],
   "source": [
    "dfX = df1.drop(['corner'], axis=1)\n",
    "dfY = df1['corner']\n",
    "X_train, X_test, Y_train, Y_test = train_test_split(dfX, dfY, test_size=0.20, random_state=0)"
   ]
  },
  {
   "cell_type": "code",
   "execution_count": 240,
   "metadata": {},
   "outputs": [
    {
     "data": {
      "text/plain": [
       "(4000, 10)"
      ]
     },
     "metadata": {},
     "output_type": "display_data"
    },
    {
     "data": {
      "text/plain": [
       "(1000, 10)"
      ]
     },
     "metadata": {},
     "output_type": "display_data"
    },
    {
     "data": {
      "text/html": [
       "<div>\n",
       "<style scoped>\n",
       "    .dataframe tbody tr th:only-of-type {\n",
       "        vertical-align: middle;\n",
       "    }\n",
       "\n",
       "    .dataframe tbody tr th {\n",
       "        vertical-align: top;\n",
       "    }\n",
       "\n",
       "    .dataframe thead th {\n",
       "        text-align: right;\n",
       "    }\n",
       "</style>\n",
       "<table border=\"1\" class=\"dataframe\">\n",
       "  <thead>\n",
       "    <tr style=\"text-align: right;\">\n",
       "      <th></th>\n",
       "      <th>gender</th>\n",
       "      <th>total</th>\n",
       "      <th>count</th>\n",
       "      <th>purchase</th>\n",
       "      <th>months</th>\n",
       "      <th>brand</th>\n",
       "      <th>visit</th>\n",
       "      <th>IP</th>\n",
       "      <th>Weekend</th>\n",
       "      <th>total_band</th>\n",
       "    </tr>\n",
       "  </thead>\n",
       "  <tbody>\n",
       "    <tr>\n",
       "      <th>2913</th>\n",
       "      <td>1</td>\n",
       "      <td>5070232</td>\n",
       "      <td>63</td>\n",
       "      <td>80480</td>\n",
       "      <td>1.9</td>\n",
       "      <td>32</td>\n",
       "      <td>35</td>\n",
       "      <td>3.2</td>\n",
       "      <td>20.0</td>\n",
       "      <td>4</td>\n",
       "    </tr>\n",
       "    <tr>\n",
       "      <th>3275</th>\n",
       "      <td>1</td>\n",
       "      <td>738262</td>\n",
       "      <td>20</td>\n",
       "      <td>36913</td>\n",
       "      <td>1.4</td>\n",
       "      <td>13</td>\n",
       "      <td>14</td>\n",
       "      <td>5.0</td>\n",
       "      <td>28.6</td>\n",
       "      <td>3</td>\n",
       "    </tr>\n",
       "    <tr>\n",
       "      <th>775</th>\n",
       "      <td>0</td>\n",
       "      <td>521000</td>\n",
       "      <td>2</td>\n",
       "      <td>260500</td>\n",
       "      <td>2.5</td>\n",
       "      <td>2</td>\n",
       "      <td>2</td>\n",
       "      <td>50.0</td>\n",
       "      <td>0.0</td>\n",
       "      <td>2</td>\n",
       "    </tr>\n",
       "    <tr>\n",
       "      <th>217</th>\n",
       "      <td>0</td>\n",
       "      <td>7227043</td>\n",
       "      <td>59</td>\n",
       "      <td>122492</td>\n",
       "      <td>3.6</td>\n",
       "      <td>33</td>\n",
       "      <td>43</td>\n",
       "      <td>16.9</td>\n",
       "      <td>16.3</td>\n",
       "      <td>4</td>\n",
       "    </tr>\n",
       "    <tr>\n",
       "      <th>1245</th>\n",
       "      <td>0</td>\n",
       "      <td>504100</td>\n",
       "      <td>13</td>\n",
       "      <td>38777</td>\n",
       "      <td>1.6</td>\n",
       "      <td>11</td>\n",
       "      <td>8</td>\n",
       "      <td>23.1</td>\n",
       "      <td>62.5</td>\n",
       "      <td>2</td>\n",
       "    </tr>\n",
       "  </tbody>\n",
       "</table>\n",
       "</div>"
      ],
      "text/plain": [
       "     gender    total  count  purchase  months  brand  visit    IP  Weekend   \\\n",
       "2913      1  5070232     63     80480     1.9     32     35   3.2      20.0   \n",
       "3275      1   738262     20     36913     1.4     13     14   5.0      28.6   \n",
       "775       0   521000      2    260500     2.5      2      2  50.0       0.0   \n",
       "217       0  7227043     59    122492     3.6     33     43  16.9      16.3   \n",
       "1245      0   504100     13     38777     1.6     11      8  23.1      62.5   \n",
       "\n",
       "      total_band  \n",
       "2913           4  \n",
       "3275           3  \n",
       "775            2  \n",
       "217            4  \n",
       "1245           2  "
      ]
     },
     "execution_count": 240,
     "metadata": {},
     "output_type": "execute_result"
    }
   ],
   "source": [
    "display(X_train.shape, X_test.shape)\n",
    "X_train.head()"
   ]
  },
  {
   "cell_type": "code",
   "execution_count": null,
   "metadata": {},
   "outputs": [],
   "source": []
  },
  {
   "cell_type": "code",
   "execution_count": 241,
   "metadata": {},
   "outputs": [
    {
     "data": {
      "text/plain": [
       "(5000, 11)"
      ]
     },
     "execution_count": 241,
     "metadata": {},
     "output_type": "execute_result"
    }
   ],
   "source": [
    "df1.shape"
   ]
  },
  {
   "cell_type": "code",
   "execution_count": 242,
   "metadata": {},
   "outputs": [],
   "source": [
    "dfX = df1.drop(['gender'], axis=1) "
   ]
  },
  {
   "cell_type": "code",
   "execution_count": 243,
   "metadata": {},
   "outputs": [],
   "source": [
    "dfy = df1['gender']"
   ]
  },
  {
   "cell_type": "code",
   "execution_count": 244,
   "metadata": {},
   "outputs": [
    {
     "data": {
      "text/plain": [
       "0    3479\n",
       "1    1521\n",
       "Name: gender, dtype: int64"
      ]
     },
     "execution_count": 244,
     "metadata": {},
     "output_type": "execute_result"
    }
   ],
   "source": [
    "df1['gender'].value_counts()"
   ]
  },
  {
   "cell_type": "code",
   "execution_count": null,
   "metadata": {},
   "outputs": [],
   "source": []
  },
  {
   "cell_type": "code",
   "execution_count": null,
   "metadata": {},
   "outputs": [],
   "source": []
  },
  {
   "cell_type": "code",
   "execution_count": 245,
   "metadata": {},
   "outputs": [],
   "source": [
    "from sklearn.linear_model import LogisticRegression\n",
    "from sklearn.neighbors import KNeighborsClassifier\n",
    "from sklearn.tree import DecisionTreeClassifier\n",
    "\n",
    "#model = KNeighborsClassifier()\n",
    "model = LogisticRegression()\n",
    "#model = DecisionTreeClassifier()"
   ]
  },
  {
   "cell_type": "code",
   "execution_count": 246,
   "metadata": {},
   "outputs": [],
   "source": [
    "from sklearn.model_selection import cross_val_score\n",
    "from sklearn.model_selection import KFold"
   ]
  },
  {
   "cell_type": "code",
   "execution_count": 247,
   "metadata": {},
   "outputs": [
    {
     "name": "stderr",
     "output_type": "stream",
     "text": [
      "C:\\Users\\021\\Anaconda3\\lib\\site-packages\\sklearn\\model_selection\\_validation.py:548: FitFailedWarning: Estimator fit failed. The score on this train-test partition for these parameters will be set to nan. Details: \n",
      "Traceback (most recent call last):\n",
      "  File \"C:\\Users\\021\\Anaconda3\\lib\\site-packages\\sklearn\\model_selection\\_validation.py\", line 531, in _fit_and_score\n",
      "    estimator.fit(X_train, y_train, **fit_params)\n",
      "  File \"C:\\Users\\021\\Anaconda3\\lib\\site-packages\\sklearn\\linear_model\\_logistic.py\", line 1342, in fit\n",
      "    X, y = self._validate_data(X, y, accept_sparse='csr', dtype=_dtype,\n",
      "  File \"C:\\Users\\021\\Anaconda3\\lib\\site-packages\\sklearn\\base.py\", line 432, in _validate_data\n",
      "    X, y = check_X_y(X, y, **check_params)\n",
      "  File \"C:\\Users\\021\\Anaconda3\\lib\\site-packages\\sklearn\\utils\\validation.py\", line 72, in inner_f\n",
      "    return f(**kwargs)\n",
      "  File \"C:\\Users\\021\\Anaconda3\\lib\\site-packages\\sklearn\\utils\\validation.py\", line 795, in check_X_y\n",
      "    X = check_array(X, accept_sparse=accept_sparse,\n",
      "  File \"C:\\Users\\021\\Anaconda3\\lib\\site-packages\\sklearn\\utils\\validation.py\", line 72, in inner_f\n",
      "    return f(**kwargs)\n",
      "  File \"C:\\Users\\021\\Anaconda3\\lib\\site-packages\\sklearn\\utils\\validation.py\", line 598, in check_array\n",
      "    array = np.asarray(array, order=order, dtype=dtype)\n",
      "  File \"C:\\Users\\021\\Anaconda3\\lib\\site-packages\\numpy\\core\\_asarray.py\", line 83, in asarray\n",
      "    return array(a, dtype, copy=False, order=order)\n",
      "  File \"C:\\Users\\021\\Anaconda3\\lib\\site-packages\\pandas\\core\\generic.py\", line 1781, in __array__\n",
      "    return np.asarray(self._values, dtype=dtype)\n",
      "  File \"C:\\Users\\021\\Anaconda3\\lib\\site-packages\\numpy\\core\\_asarray.py\", line 83, in asarray\n",
      "    return array(a, dtype, copy=False, order=order)\n",
      "ValueError: could not convert string to float: '일반식품'\n",
      "\n",
      "  warnings.warn(\"Estimator fit failed. The score on this train-test\"\n",
      "C:\\Users\\021\\Anaconda3\\lib\\site-packages\\sklearn\\model_selection\\_validation.py:548: FitFailedWarning: Estimator fit failed. The score on this train-test partition for these parameters will be set to nan. Details: \n",
      "Traceback (most recent call last):\n",
      "  File \"C:\\Users\\021\\Anaconda3\\lib\\site-packages\\sklearn\\model_selection\\_validation.py\", line 531, in _fit_and_score\n",
      "    estimator.fit(X_train, y_train, **fit_params)\n",
      "  File \"C:\\Users\\021\\Anaconda3\\lib\\site-packages\\sklearn\\linear_model\\_logistic.py\", line 1342, in fit\n",
      "    X, y = self._validate_data(X, y, accept_sparse='csr', dtype=_dtype,\n",
      "  File \"C:\\Users\\021\\Anaconda3\\lib\\site-packages\\sklearn\\base.py\", line 432, in _validate_data\n",
      "    X, y = check_X_y(X, y, **check_params)\n",
      "  File \"C:\\Users\\021\\Anaconda3\\lib\\site-packages\\sklearn\\utils\\validation.py\", line 72, in inner_f\n",
      "    return f(**kwargs)\n",
      "  File \"C:\\Users\\021\\Anaconda3\\lib\\site-packages\\sklearn\\utils\\validation.py\", line 795, in check_X_y\n",
      "    X = check_array(X, accept_sparse=accept_sparse,\n",
      "  File \"C:\\Users\\021\\Anaconda3\\lib\\site-packages\\sklearn\\utils\\validation.py\", line 72, in inner_f\n",
      "    return f(**kwargs)\n",
      "  File \"C:\\Users\\021\\Anaconda3\\lib\\site-packages\\sklearn\\utils\\validation.py\", line 598, in check_array\n",
      "    array = np.asarray(array, order=order, dtype=dtype)\n",
      "  File \"C:\\Users\\021\\Anaconda3\\lib\\site-packages\\numpy\\core\\_asarray.py\", line 83, in asarray\n",
      "    return array(a, dtype, copy=False, order=order)\n",
      "  File \"C:\\Users\\021\\Anaconda3\\lib\\site-packages\\pandas\\core\\generic.py\", line 1781, in __array__\n",
      "    return np.asarray(self._values, dtype=dtype)\n",
      "  File \"C:\\Users\\021\\Anaconda3\\lib\\site-packages\\numpy\\core\\_asarray.py\", line 83, in asarray\n",
      "    return array(a, dtype, copy=False, order=order)\n",
      "ValueError: could not convert string to float: '화장품'\n",
      "\n",
      "  warnings.warn(\"Estimator fit failed. The score on this train-test\"\n",
      "C:\\Users\\021\\Anaconda3\\lib\\site-packages\\sklearn\\model_selection\\_validation.py:548: FitFailedWarning: Estimator fit failed. The score on this train-test partition for these parameters will be set to nan. Details: \n",
      "Traceback (most recent call last):\n",
      "  File \"C:\\Users\\021\\Anaconda3\\lib\\site-packages\\sklearn\\model_selection\\_validation.py\", line 531, in _fit_and_score\n",
      "    estimator.fit(X_train, y_train, **fit_params)\n",
      "  File \"C:\\Users\\021\\Anaconda3\\lib\\site-packages\\sklearn\\linear_model\\_logistic.py\", line 1342, in fit\n",
      "    X, y = self._validate_data(X, y, accept_sparse='csr', dtype=_dtype,\n",
      "  File \"C:\\Users\\021\\Anaconda3\\lib\\site-packages\\sklearn\\base.py\", line 432, in _validate_data\n",
      "    X, y = check_X_y(X, y, **check_params)\n",
      "  File \"C:\\Users\\021\\Anaconda3\\lib\\site-packages\\sklearn\\utils\\validation.py\", line 72, in inner_f\n",
      "    return f(**kwargs)\n",
      "  File \"C:\\Users\\021\\Anaconda3\\lib\\site-packages\\sklearn\\utils\\validation.py\", line 795, in check_X_y\n",
      "    X = check_array(X, accept_sparse=accept_sparse,\n",
      "  File \"C:\\Users\\021\\Anaconda3\\lib\\site-packages\\sklearn\\utils\\validation.py\", line 72, in inner_f\n",
      "    return f(**kwargs)\n",
      "  File \"C:\\Users\\021\\Anaconda3\\lib\\site-packages\\sklearn\\utils\\validation.py\", line 598, in check_array\n",
      "    array = np.asarray(array, order=order, dtype=dtype)\n",
      "  File \"C:\\Users\\021\\Anaconda3\\lib\\site-packages\\numpy\\core\\_asarray.py\", line 83, in asarray\n",
      "    return array(a, dtype, copy=False, order=order)\n",
      "  File \"C:\\Users\\021\\Anaconda3\\lib\\site-packages\\pandas\\core\\generic.py\", line 1781, in __array__\n",
      "    return np.asarray(self._values, dtype=dtype)\n",
      "  File \"C:\\Users\\021\\Anaconda3\\lib\\site-packages\\numpy\\core\\_asarray.py\", line 83, in asarray\n",
      "    return array(a, dtype, copy=False, order=order)\n",
      "ValueError: could not convert string to float: '화장품'\n",
      "\n",
      "  warnings.warn(\"Estimator fit failed. The score on this train-test\"\n",
      "C:\\Users\\021\\Anaconda3\\lib\\site-packages\\sklearn\\model_selection\\_validation.py:548: FitFailedWarning: Estimator fit failed. The score on this train-test partition for these parameters will be set to nan. Details: \n",
      "Traceback (most recent call last):\n",
      "  File \"C:\\Users\\021\\Anaconda3\\lib\\site-packages\\sklearn\\model_selection\\_validation.py\", line 531, in _fit_and_score\n",
      "    estimator.fit(X_train, y_train, **fit_params)\n",
      "  File \"C:\\Users\\021\\Anaconda3\\lib\\site-packages\\sklearn\\linear_model\\_logistic.py\", line 1342, in fit\n",
      "    X, y = self._validate_data(X, y, accept_sparse='csr', dtype=_dtype,\n",
      "  File \"C:\\Users\\021\\Anaconda3\\lib\\site-packages\\sklearn\\base.py\", line 432, in _validate_data\n",
      "    X, y = check_X_y(X, y, **check_params)\n",
      "  File \"C:\\Users\\021\\Anaconda3\\lib\\site-packages\\sklearn\\utils\\validation.py\", line 72, in inner_f\n",
      "    return f(**kwargs)\n",
      "  File \"C:\\Users\\021\\Anaconda3\\lib\\site-packages\\sklearn\\utils\\validation.py\", line 795, in check_X_y\n",
      "    X = check_array(X, accept_sparse=accept_sparse,\n",
      "  File \"C:\\Users\\021\\Anaconda3\\lib\\site-packages\\sklearn\\utils\\validation.py\", line 72, in inner_f\n",
      "    return f(**kwargs)\n",
      "  File \"C:\\Users\\021\\Anaconda3\\lib\\site-packages\\sklearn\\utils\\validation.py\", line 598, in check_array\n",
      "    array = np.asarray(array, order=order, dtype=dtype)\n",
      "  File \"C:\\Users\\021\\Anaconda3\\lib\\site-packages\\numpy\\core\\_asarray.py\", line 83, in asarray\n",
      "    return array(a, dtype, copy=False, order=order)\n",
      "  File \"C:\\Users\\021\\Anaconda3\\lib\\site-packages\\pandas\\core\\generic.py\", line 1781, in __array__\n",
      "    return np.asarray(self._values, dtype=dtype)\n",
      "  File \"C:\\Users\\021\\Anaconda3\\lib\\site-packages\\numpy\\core\\_asarray.py\", line 83, in asarray\n",
      "    return array(a, dtype, copy=False, order=order)\n",
      "ValueError: could not convert string to float: '화장품'\n",
      "\n",
      "  warnings.warn(\"Estimator fit failed. The score on this train-test\"\n",
      "C:\\Users\\021\\Anaconda3\\lib\\site-packages\\sklearn\\model_selection\\_validation.py:548: FitFailedWarning: Estimator fit failed. The score on this train-test partition for these parameters will be set to nan. Details: \n",
      "Traceback (most recent call last):\n",
      "  File \"C:\\Users\\021\\Anaconda3\\lib\\site-packages\\sklearn\\model_selection\\_validation.py\", line 531, in _fit_and_score\n",
      "    estimator.fit(X_train, y_train, **fit_params)\n",
      "  File \"C:\\Users\\021\\Anaconda3\\lib\\site-packages\\sklearn\\linear_model\\_logistic.py\", line 1342, in fit\n",
      "    X, y = self._validate_data(X, y, accept_sparse='csr', dtype=_dtype,\n",
      "  File \"C:\\Users\\021\\Anaconda3\\lib\\site-packages\\sklearn\\base.py\", line 432, in _validate_data\n",
      "    X, y = check_X_y(X, y, **check_params)\n",
      "  File \"C:\\Users\\021\\Anaconda3\\lib\\site-packages\\sklearn\\utils\\validation.py\", line 72, in inner_f\n",
      "    return f(**kwargs)\n",
      "  File \"C:\\Users\\021\\Anaconda3\\lib\\site-packages\\sklearn\\utils\\validation.py\", line 795, in check_X_y\n",
      "    X = check_array(X, accept_sparse=accept_sparse,\n",
      "  File \"C:\\Users\\021\\Anaconda3\\lib\\site-packages\\sklearn\\utils\\validation.py\", line 72, in inner_f\n",
      "    return f(**kwargs)\n",
      "  File \"C:\\Users\\021\\Anaconda3\\lib\\site-packages\\sklearn\\utils\\validation.py\", line 598, in check_array\n",
      "    array = np.asarray(array, order=order, dtype=dtype)\n",
      "  File \"C:\\Users\\021\\Anaconda3\\lib\\site-packages\\numpy\\core\\_asarray.py\", line 83, in asarray\n",
      "    return array(a, dtype, copy=False, order=order)\n",
      "  File \"C:\\Users\\021\\Anaconda3\\lib\\site-packages\\pandas\\core\\generic.py\", line 1781, in __array__\n",
      "    return np.asarray(self._values, dtype=dtype)\n",
      "  File \"C:\\Users\\021\\Anaconda3\\lib\\site-packages\\numpy\\core\\_asarray.py\", line 83, in asarray\n",
      "    return array(a, dtype, copy=False, order=order)\n",
      "ValueError: could not convert string to float: '화장품'\n",
      "\n",
      "  warnings.warn(\"Estimator fit failed. The score on this train-test\"\n"
     ]
    },
    {
     "data": {
      "text/plain": [
       "array([nan, nan, nan, nan, nan])"
      ]
     },
     "execution_count": 247,
     "metadata": {},
     "output_type": "execute_result"
    }
   ],
   "source": [
    "scores = cross_val_score(model, dfX, dfy); scores"
   ]
  },
  {
   "cell_type": "code",
   "execution_count": 248,
   "metadata": {},
   "outputs": [
    {
     "name": "stdout",
     "output_type": "stream",
     "text": [
      "Mean: nan\n",
      "Std: nan\n",
      "Min: nan\n",
      "Max: nan\n"
     ]
    }
   ],
   "source": [
    "print(\"Mean: {:.3f}\\nStd: {:.3f}\\nMin: {:.3f}\\nMax: {:.3f}\".format(\n",
    "    scores.mean(), scores.std(), scores.min(), scores.max()))"
   ]
  },
  {
   "cell_type": "code",
   "execution_count": 249,
   "metadata": {},
   "outputs": [],
   "source": [
    "from imblearn.combine import *"
   ]
  },
  {
   "cell_type": "code",
   "execution_count": 250,
   "metadata": {},
   "outputs": [],
   "source": [
    "from imblearn.combine import SMOTETomek"
   ]
  },
  {
   "cell_type": "code",
   "execution_count": 251,
   "metadata": {},
   "outputs": [
    {
     "name": "stderr",
     "output_type": "stream",
     "text": [
      "C:\\Users\\021\\Anaconda3\\lib\\site-packages\\sklearn\\model_selection\\_validation.py:548: FitFailedWarning: Estimator fit failed. The score on this train-test partition for these parameters will be set to nan. Details: \n",
      "Traceback (most recent call last):\n",
      "  File \"C:\\Users\\021\\Anaconda3\\lib\\site-packages\\sklearn\\model_selection\\_validation.py\", line 531, in _fit_and_score\n",
      "    estimator.fit(X_train, y_train, **fit_params)\n",
      "  File \"C:\\Users\\021\\Anaconda3\\lib\\site-packages\\sklearn\\linear_model\\_logistic.py\", line 1342, in fit\n",
      "    X, y = self._validate_data(X, y, accept_sparse='csr', dtype=_dtype,\n",
      "  File \"C:\\Users\\021\\Anaconda3\\lib\\site-packages\\sklearn\\base.py\", line 432, in _validate_data\n",
      "    X, y = check_X_y(X, y, **check_params)\n",
      "  File \"C:\\Users\\021\\Anaconda3\\lib\\site-packages\\sklearn\\utils\\validation.py\", line 72, in inner_f\n",
      "    return f(**kwargs)\n",
      "  File \"C:\\Users\\021\\Anaconda3\\lib\\site-packages\\sklearn\\utils\\validation.py\", line 795, in check_X_y\n",
      "    X = check_array(X, accept_sparse=accept_sparse,\n",
      "  File \"C:\\Users\\021\\Anaconda3\\lib\\site-packages\\sklearn\\utils\\validation.py\", line 72, in inner_f\n",
      "    return f(**kwargs)\n",
      "  File \"C:\\Users\\021\\Anaconda3\\lib\\site-packages\\sklearn\\utils\\validation.py\", line 598, in check_array\n",
      "    array = np.asarray(array, order=order, dtype=dtype)\n",
      "  File \"C:\\Users\\021\\Anaconda3\\lib\\site-packages\\numpy\\core\\_asarray.py\", line 83, in asarray\n",
      "    return array(a, dtype, copy=False, order=order)\n",
      "  File \"C:\\Users\\021\\Anaconda3\\lib\\site-packages\\pandas\\core\\generic.py\", line 1781, in __array__\n",
      "    return np.asarray(self._values, dtype=dtype)\n",
      "  File \"C:\\Users\\021\\Anaconda3\\lib\\site-packages\\numpy\\core\\_asarray.py\", line 83, in asarray\n",
      "    return array(a, dtype, copy=False, order=order)\n",
      "ValueError: could not convert string to float: '일반식품'\n",
      "\n",
      "  warnings.warn(\"Estimator fit failed. The score on this train-test\"\n",
      "C:\\Users\\021\\Anaconda3\\lib\\site-packages\\sklearn\\model_selection\\_validation.py:548: FitFailedWarning: Estimator fit failed. The score on this train-test partition for these parameters will be set to nan. Details: \n",
      "Traceback (most recent call last):\n",
      "  File \"C:\\Users\\021\\Anaconda3\\lib\\site-packages\\sklearn\\model_selection\\_validation.py\", line 531, in _fit_and_score\n",
      "    estimator.fit(X_train, y_train, **fit_params)\n",
      "  File \"C:\\Users\\021\\Anaconda3\\lib\\site-packages\\sklearn\\linear_model\\_logistic.py\", line 1342, in fit\n",
      "    X, y = self._validate_data(X, y, accept_sparse='csr', dtype=_dtype,\n",
      "  File \"C:\\Users\\021\\Anaconda3\\lib\\site-packages\\sklearn\\base.py\", line 432, in _validate_data\n",
      "    X, y = check_X_y(X, y, **check_params)\n",
      "  File \"C:\\Users\\021\\Anaconda3\\lib\\site-packages\\sklearn\\utils\\validation.py\", line 72, in inner_f\n",
      "    return f(**kwargs)\n",
      "  File \"C:\\Users\\021\\Anaconda3\\lib\\site-packages\\sklearn\\utils\\validation.py\", line 795, in check_X_y\n",
      "    X = check_array(X, accept_sparse=accept_sparse,\n",
      "  File \"C:\\Users\\021\\Anaconda3\\lib\\site-packages\\sklearn\\utils\\validation.py\", line 72, in inner_f\n",
      "    return f(**kwargs)\n",
      "  File \"C:\\Users\\021\\Anaconda3\\lib\\site-packages\\sklearn\\utils\\validation.py\", line 598, in check_array\n",
      "    array = np.asarray(array, order=order, dtype=dtype)\n",
      "  File \"C:\\Users\\021\\Anaconda3\\lib\\site-packages\\numpy\\core\\_asarray.py\", line 83, in asarray\n",
      "    return array(a, dtype, copy=False, order=order)\n",
      "  File \"C:\\Users\\021\\Anaconda3\\lib\\site-packages\\pandas\\core\\generic.py\", line 1781, in __array__\n",
      "    return np.asarray(self._values, dtype=dtype)\n",
      "  File \"C:\\Users\\021\\Anaconda3\\lib\\site-packages\\numpy\\core\\_asarray.py\", line 83, in asarray\n",
      "    return array(a, dtype, copy=False, order=order)\n",
      "ValueError: could not convert string to float: '화장품'\n",
      "\n",
      "  warnings.warn(\"Estimator fit failed. The score on this train-test\"\n",
      "C:\\Users\\021\\Anaconda3\\lib\\site-packages\\sklearn\\model_selection\\_validation.py:548: FitFailedWarning: Estimator fit failed. The score on this train-test partition for these parameters will be set to nan. Details: \n",
      "Traceback (most recent call last):\n",
      "  File \"C:\\Users\\021\\Anaconda3\\lib\\site-packages\\sklearn\\model_selection\\_validation.py\", line 531, in _fit_and_score\n",
      "    estimator.fit(X_train, y_train, **fit_params)\n",
      "  File \"C:\\Users\\021\\Anaconda3\\lib\\site-packages\\sklearn\\linear_model\\_logistic.py\", line 1342, in fit\n",
      "    X, y = self._validate_data(X, y, accept_sparse='csr', dtype=_dtype,\n",
      "  File \"C:\\Users\\021\\Anaconda3\\lib\\site-packages\\sklearn\\base.py\", line 432, in _validate_data\n",
      "    X, y = check_X_y(X, y, **check_params)\n",
      "  File \"C:\\Users\\021\\Anaconda3\\lib\\site-packages\\sklearn\\utils\\validation.py\", line 72, in inner_f\n",
      "    return f(**kwargs)\n",
      "  File \"C:\\Users\\021\\Anaconda3\\lib\\site-packages\\sklearn\\utils\\validation.py\", line 795, in check_X_y\n",
      "    X = check_array(X, accept_sparse=accept_sparse,\n",
      "  File \"C:\\Users\\021\\Anaconda3\\lib\\site-packages\\sklearn\\utils\\validation.py\", line 72, in inner_f\n",
      "    return f(**kwargs)\n",
      "  File \"C:\\Users\\021\\Anaconda3\\lib\\site-packages\\sklearn\\utils\\validation.py\", line 598, in check_array\n",
      "    array = np.asarray(array, order=order, dtype=dtype)\n",
      "  File \"C:\\Users\\021\\Anaconda3\\lib\\site-packages\\numpy\\core\\_asarray.py\", line 83, in asarray\n",
      "    return array(a, dtype, copy=False, order=order)\n",
      "  File \"C:\\Users\\021\\Anaconda3\\lib\\site-packages\\pandas\\core\\generic.py\", line 1781, in __array__\n",
      "    return np.asarray(self._values, dtype=dtype)\n",
      "  File \"C:\\Users\\021\\Anaconda3\\lib\\site-packages\\numpy\\core\\_asarray.py\", line 83, in asarray\n",
      "    return array(a, dtype, copy=False, order=order)\n",
      "ValueError: could not convert string to float: '화장품'\n",
      "\n",
      "  warnings.warn(\"Estimator fit failed. The score on this train-test\"\n",
      "C:\\Users\\021\\Anaconda3\\lib\\site-packages\\sklearn\\model_selection\\_validation.py:548: FitFailedWarning: Estimator fit failed. The score on this train-test partition for these parameters will be set to nan. Details: \n",
      "Traceback (most recent call last):\n",
      "  File \"C:\\Users\\021\\Anaconda3\\lib\\site-packages\\sklearn\\model_selection\\_validation.py\", line 531, in _fit_and_score\n",
      "    estimator.fit(X_train, y_train, **fit_params)\n",
      "  File \"C:\\Users\\021\\Anaconda3\\lib\\site-packages\\sklearn\\linear_model\\_logistic.py\", line 1342, in fit\n",
      "    X, y = self._validate_data(X, y, accept_sparse='csr', dtype=_dtype,\n",
      "  File \"C:\\Users\\021\\Anaconda3\\lib\\site-packages\\sklearn\\base.py\", line 432, in _validate_data\n",
      "    X, y = check_X_y(X, y, **check_params)\n",
      "  File \"C:\\Users\\021\\Anaconda3\\lib\\site-packages\\sklearn\\utils\\validation.py\", line 72, in inner_f\n",
      "    return f(**kwargs)\n",
      "  File \"C:\\Users\\021\\Anaconda3\\lib\\site-packages\\sklearn\\utils\\validation.py\", line 795, in check_X_y\n",
      "    X = check_array(X, accept_sparse=accept_sparse,\n",
      "  File \"C:\\Users\\021\\Anaconda3\\lib\\site-packages\\sklearn\\utils\\validation.py\", line 72, in inner_f\n",
      "    return f(**kwargs)\n",
      "  File \"C:\\Users\\021\\Anaconda3\\lib\\site-packages\\sklearn\\utils\\validation.py\", line 598, in check_array\n",
      "    array = np.asarray(array, order=order, dtype=dtype)\n",
      "  File \"C:\\Users\\021\\Anaconda3\\lib\\site-packages\\numpy\\core\\_asarray.py\", line 83, in asarray\n",
      "    return array(a, dtype, copy=False, order=order)\n",
      "  File \"C:\\Users\\021\\Anaconda3\\lib\\site-packages\\pandas\\core\\generic.py\", line 1781, in __array__\n",
      "    return np.asarray(self._values, dtype=dtype)\n",
      "  File \"C:\\Users\\021\\Anaconda3\\lib\\site-packages\\numpy\\core\\_asarray.py\", line 83, in asarray\n",
      "    return array(a, dtype, copy=False, order=order)\n",
      "ValueError: could not convert string to float: '화장품'\n",
      "\n",
      "  warnings.warn(\"Estimator fit failed. The score on this train-test\"\n",
      "C:\\Users\\021\\Anaconda3\\lib\\site-packages\\sklearn\\model_selection\\_validation.py:548: FitFailedWarning: Estimator fit failed. The score on this train-test partition for these parameters will be set to nan. Details: \n",
      "Traceback (most recent call last):\n",
      "  File \"C:\\Users\\021\\Anaconda3\\lib\\site-packages\\sklearn\\model_selection\\_validation.py\", line 531, in _fit_and_score\n",
      "    estimator.fit(X_train, y_train, **fit_params)\n",
      "  File \"C:\\Users\\021\\Anaconda3\\lib\\site-packages\\sklearn\\linear_model\\_logistic.py\", line 1342, in fit\n",
      "    X, y = self._validate_data(X, y, accept_sparse='csr', dtype=_dtype,\n",
      "  File \"C:\\Users\\021\\Anaconda3\\lib\\site-packages\\sklearn\\base.py\", line 432, in _validate_data\n",
      "    X, y = check_X_y(X, y, **check_params)\n",
      "  File \"C:\\Users\\021\\Anaconda3\\lib\\site-packages\\sklearn\\utils\\validation.py\", line 72, in inner_f\n",
      "    return f(**kwargs)\n",
      "  File \"C:\\Users\\021\\Anaconda3\\lib\\site-packages\\sklearn\\utils\\validation.py\", line 795, in check_X_y\n",
      "    X = check_array(X, accept_sparse=accept_sparse,\n",
      "  File \"C:\\Users\\021\\Anaconda3\\lib\\site-packages\\sklearn\\utils\\validation.py\", line 72, in inner_f\n",
      "    return f(**kwargs)\n",
      "  File \"C:\\Users\\021\\Anaconda3\\lib\\site-packages\\sklearn\\utils\\validation.py\", line 598, in check_array\n",
      "    array = np.asarray(array, order=order, dtype=dtype)\n",
      "  File \"C:\\Users\\021\\Anaconda3\\lib\\site-packages\\numpy\\core\\_asarray.py\", line 83, in asarray\n",
      "    return array(a, dtype, copy=False, order=order)\n",
      "  File \"C:\\Users\\021\\Anaconda3\\lib\\site-packages\\pandas\\core\\generic.py\", line 1781, in __array__\n",
      "    return np.asarray(self._values, dtype=dtype)\n",
      "  File \"C:\\Users\\021\\Anaconda3\\lib\\site-packages\\numpy\\core\\_asarray.py\", line 83, in asarray\n",
      "    return array(a, dtype, copy=False, order=order)\n",
      "ValueError: could not convert string to float: '화장품'\n",
      "\n",
      "  warnings.warn(\"Estimator fit failed. The score on this train-test\"\n"
     ]
    },
    {
     "data": {
      "text/plain": [
       "array([nan, nan, nan, nan, nan])"
      ]
     },
     "execution_count": 251,
     "metadata": {},
     "output_type": "execute_result"
    }
   ],
   "source": [
    "scores = cross_val_score(model, dfX, dfy); scores"
   ]
  },
  {
   "cell_type": "code",
   "execution_count": null,
   "metadata": {},
   "outputs": [],
   "source": []
  },
  {
   "cell_type": "code",
   "execution_count": 252,
   "metadata": {},
   "outputs": [],
   "source": [
    "from sklearn.neighbors import KNeighborsClassifier\n",
    "from sklearn.tree import DecisionTreeClassifier\n",
    "from sklearn.ensemble import RandomForestClassifier\n",
    "from sklearn.ensemble import GradientBoostingClassifier\n",
    "from sklearn.naive_bayes import GaussianNB\n",
    "from sklearn.svm import SVC"
   ]
  },
  {
   "cell_type": "code",
   "execution_count": 253,
   "metadata": {},
   "outputs": [
    {
     "name": "stdout",
     "output_type": "stream",
     "text": [
      "<class 'pandas.core.frame.DataFrame'>\n",
      "RangeIndex: 5000 entries, 0 to 4999\n",
      "Data columns (total 11 columns):\n",
      " #   Column      Non-Null Count  Dtype  \n",
      "---  ------      --------------  -----  \n",
      " 0   gender      5000 non-null   object \n",
      " 1   total       5000 non-null   int64  \n",
      " 2   count       5000 non-null   int64  \n",
      " 3   purchase    5000 non-null   int64  \n",
      " 4   months      5000 non-null   float64\n",
      " 5   brand       5000 non-null   int64  \n",
      " 6   visit       5000 non-null   int64  \n",
      " 7   IP          5000 non-null   float64\n",
      " 8   Weekend     5000 non-null   float64\n",
      " 9   corner      5000 non-null   object \n",
      " 10  total_band  5000 non-null   int64  \n",
      "dtypes: float64(3), int64(6), object(2)\n",
      "memory usage: 429.8+ KB\n"
     ]
    }
   ],
   "source": [
    "df1.info()"
   ]
  },
  {
   "cell_type": "code",
   "execution_count": 254,
   "metadata": {},
   "outputs": [
    {
     "data": {
      "text/plain": [
       "KNeighborsClassifier()"
      ]
     },
     "execution_count": 254,
     "metadata": {},
     "output_type": "execute_result"
    }
   ],
   "source": [
    "kneighbors = KNeighborsClassifier()\n",
    "kneighbors.fit(X_train, Y_train)"
   ]
  },
  {
   "cell_type": "code",
   "execution_count": 255,
   "metadata": {},
   "outputs": [
    {
     "data": {
      "text/plain": [
       "0.463"
      ]
     },
     "metadata": {},
     "output_type": "display_data"
    },
    {
     "data": {
      "text/plain": [
       "0.246"
      ]
     },
     "metadata": {},
     "output_type": "display_data"
    }
   ],
   "source": [
    "display(kneighbors.score(X_train, Y_train))\n",
    "display(kneighbors.score(X_test, Y_test))"
   ]
  },
  {
   "cell_type": "code",
   "execution_count": 256,
   "metadata": {},
   "outputs": [
    {
     "data": {
      "text/plain": [
       "DecisionTreeClassifier(max_depth=10, random_state=0)"
      ]
     },
     "execution_count": 256,
     "metadata": {},
     "output_type": "execute_result"
    }
   ],
   "source": [
    "tree = DecisionTreeClassifier(max_depth=10, random_state=0)\n",
    "tree.fit(X_train, Y_train)"
   ]
  },
  {
   "cell_type": "code",
   "execution_count": 257,
   "metadata": {},
   "outputs": [
    {
     "data": {
      "text/plain": [
       "0.53825"
      ]
     },
     "metadata": {},
     "output_type": "display_data"
    },
    {
     "data": {
      "text/plain": [
       "0.354"
      ]
     },
     "metadata": {},
     "output_type": "display_data"
    }
   ],
   "source": [
    "display(tree.score(X_train, Y_train))\n",
    "display(tree.score(X_test, Y_test))"
   ]
  },
  {
   "cell_type": "code",
   "execution_count": 258,
   "metadata": {},
   "outputs": [
    {
     "data": {
      "text/plain": [
       "RandomForestClassifier()"
      ]
     },
     "execution_count": 258,
     "metadata": {},
     "output_type": "execute_result"
    }
   ],
   "source": [
    "randomforest = RandomForestClassifier()\n",
    "randomforest.fit(X_train, Y_train)"
   ]
  },
  {
   "cell_type": "code",
   "execution_count": 259,
   "metadata": {},
   "outputs": [
    {
     "data": {
      "text/plain": [
       "0.99975"
      ]
     },
     "metadata": {},
     "output_type": "display_data"
    },
    {
     "data": {
      "text/plain": [
       "0.395"
      ]
     },
     "metadata": {},
     "output_type": "display_data"
    }
   ],
   "source": [
    "display(randomforest.score(X_train, Y_train))\n",
    "display(randomforest.score(X_test, Y_test))"
   ]
  },
  {
   "cell_type": "code",
   "execution_count": 260,
   "metadata": {},
   "outputs": [
    {
     "data": {
      "text/plain": [
       "GradientBoostingClassifier()"
      ]
     },
     "execution_count": 260,
     "metadata": {},
     "output_type": "execute_result"
    }
   ],
   "source": [
    "gradient = GradientBoostingClassifier()\n",
    "gradient.fit(X_train, Y_train)"
   ]
  },
  {
   "cell_type": "code",
   "execution_count": 261,
   "metadata": {},
   "outputs": [
    {
     "data": {
      "text/plain": [
       "0.739"
      ]
     },
     "metadata": {},
     "output_type": "display_data"
    },
    {
     "data": {
      "text/plain": [
       "0.375"
      ]
     },
     "metadata": {},
     "output_type": "display_data"
    }
   ],
   "source": [
    "display(gradient.score(X_train, Y_train))\n",
    "display(gradient.score(X_test, Y_test))"
   ]
  },
  {
   "cell_type": "code",
   "execution_count": 262,
   "metadata": {},
   "outputs": [
    {
     "data": {
      "text/plain": [
       "GaussianNB()"
      ]
     },
     "execution_count": 262,
     "metadata": {},
     "output_type": "execute_result"
    }
   ],
   "source": [
    "gaussian = GaussianNB()\n",
    "gaussian.fit(X_train, Y_train)"
   ]
  },
  {
   "cell_type": "code",
   "execution_count": 263,
   "metadata": {},
   "outputs": [
    {
     "data": {
      "text/plain": [
       "0.31175"
      ]
     },
     "metadata": {},
     "output_type": "display_data"
    },
    {
     "data": {
      "text/plain": [
       "0.296"
      ]
     },
     "metadata": {},
     "output_type": "display_data"
    }
   ],
   "source": [
    "display(gaussian.score(X_train, Y_train))\n",
    "display(gaussian.score(X_test, Y_test))"
   ]
  },
  {
   "cell_type": "code",
   "execution_count": 264,
   "metadata": {},
   "outputs": [
    {
     "data": {
      "text/plain": [
       "SVC(random_state=0)"
      ]
     },
     "execution_count": 264,
     "metadata": {},
     "output_type": "execute_result"
    }
   ],
   "source": [
    "svm = SVC(random_state=0)\n",
    "svm.fit(X_train, Y_train)"
   ]
  },
  {
   "cell_type": "code",
   "execution_count": 265,
   "metadata": {},
   "outputs": [
    {
     "data": {
      "text/plain": [
       "0.331"
      ]
     },
     "metadata": {},
     "output_type": "display_data"
    },
    {
     "data": {
      "text/plain": [
       "0.302"
      ]
     },
     "metadata": {},
     "output_type": "display_data"
    }
   ],
   "source": [
    "display(svm.score(X_train, Y_train))\n",
    "display(svm.score(X_test, Y_test))"
   ]
  },
  {
   "cell_type": "code",
   "execution_count": 266,
   "metadata": {},
   "outputs": [
    {
     "data": {
      "text/plain": [
       "0.375"
      ]
     },
     "execution_count": 266,
     "metadata": {},
     "output_type": "execute_result"
    }
   ],
   "source": [
    "best_model = gradient\n",
    "best_model.score(X_test, Y_test)"
   ]
  },
  {
   "cell_type": "code",
   "execution_count": 267,
   "metadata": {},
   "outputs": [
    {
     "name": "stdout",
     "output_type": "stream",
     "text": [
      "일반식품        259\n",
      "화장품         231\n",
      "유아동복         86\n",
      "유니캐주얼        82\n",
      "스포츠          62\n",
      "영캐주얼         53\n",
      "캐릭터캐주얼       32\n",
      "수입명품         30\n",
      "니트단품         25\n",
      "섬유           22\n",
      "정장셔츠         22\n",
      "피혁A          21\n",
      "트래디셔널캐주얼     15\n",
      "엘레강스캐주얼      11\n",
      "장신구          10\n",
      "피혁B          10\n",
      "조리욕실          6\n",
      "디자이너부띠끄       6\n",
      "문화완구          6\n",
      "기타바이어         3\n",
      "가전            2\n",
      "가구            2\n",
      "타운모피          2\n",
      "침구수예          1\n",
      "도자기크리스탈       1\n",
      "Name: corner, dtype: int64\n"
     ]
    },
    {
     "data": {
      "text/plain": [
       "0.259"
      ]
     },
     "execution_count": 267,
     "metadata": {},
     "output_type": "execute_result"
    }
   ],
   "source": [
    "from sklearn.dummy import DummyClassifier\n",
    "print(Y_test.value_counts())\n",
    "DummyClassifier(strategy='most_frequent').fit(X_train, Y_train).score(X_test, Y_test)"
   ]
  },
  {
   "cell_type": "code",
   "execution_count": null,
   "metadata": {},
   "outputs": [],
   "source": []
  },
  {
   "cell_type": "code",
   "execution_count": null,
   "metadata": {},
   "outputs": [],
   "source": []
  },
  {
   "cell_type": "code",
   "execution_count": null,
   "metadata": {},
   "outputs": [],
   "source": []
  },
  {
   "cell_type": "code",
   "execution_count": null,
   "metadata": {},
   "outputs": [],
   "source": []
  },
  {
   "cell_type": "code",
   "execution_count": null,
   "metadata": {},
   "outputs": [],
   "source": []
  },
  {
   "cell_type": "code",
   "execution_count": null,
   "metadata": {},
   "outputs": [],
   "source": []
  },
  {
   "cell_type": "code",
   "execution_count": null,
   "metadata": {},
   "outputs": [],
   "source": []
  },
  {
   "cell_type": "code",
   "execution_count": null,
   "metadata": {},
   "outputs": [],
   "source": []
  },
  {
   "cell_type": "code",
   "execution_count": null,
   "metadata": {},
   "outputs": [],
   "source": []
  },
  {
   "cell_type": "code",
   "execution_count": null,
   "metadata": {},
   "outputs": [],
   "source": []
  },
  {
   "cell_type": "code",
   "execution_count": null,
   "metadata": {},
   "outputs": [],
   "source": []
  },
  {
   "cell_type": "code",
   "execution_count": null,
   "metadata": {},
   "outputs": [],
   "source": []
  },
  {
   "cell_type": "code",
   "execution_count": null,
   "metadata": {},
   "outputs": [],
   "source": []
  },
  {
   "cell_type": "code",
   "execution_count": null,
   "metadata": {},
   "outputs": [],
   "source": []
  },
  {
   "cell_type": "code",
   "execution_count": null,
   "metadata": {},
   "outputs": [],
   "source": []
  }
 ],
 "metadata": {
  "kernelspec": {
   "display_name": "Python 3",
   "language": "python",
   "name": "python3"
  },
  "language_info": {
   "codemirror_mode": {
    "name": "ipython",
    "version": 3
   },
   "file_extension": ".py",
   "mimetype": "text/x-python",
   "name": "python",
   "nbconvert_exporter": "python",
   "pygments_lexer": "ipython3",
   "version": "3.8.5"
  }
 },
 "nbformat": 4,
 "nbformat_minor": 4
}
